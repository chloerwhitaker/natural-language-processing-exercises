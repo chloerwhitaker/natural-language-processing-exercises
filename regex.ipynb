{
 "cells": [
  {
   "cell_type": "markdown",
   "id": "9dc26d26",
   "metadata": {},
   "source": [
    "# Regular Expressions Exercises"
   ]
  },
  {
   "cell_type": "markdown",
   "id": "3281f27b",
   "metadata": {},
   "source": [
    "### Imports"
   ]
  },
  {
   "cell_type": "code",
   "execution_count": 1,
   "id": "0e6c8358",
   "metadata": {},
   "outputs": [],
   "source": [
    "import pandas as pd\n",
    "import re"
   ]
  },
  {
   "cell_type": "markdown",
   "id": "075b7652",
   "metadata": {},
   "source": [
    "#### 1. Write a function named is_vowel. It should accept a string as input and use a regular expression to determine if the passed string is a vowel. While not explicity mentioned in the lesson, you can treat the result of re.search as a boolean value that indicates whether or not the regular expression matches the given string."
   ]
  },
  {
   "cell_type": "code",
   "execution_count": 2,
   "id": "e8749dc7",
   "metadata": {},
   "outputs": [],
   "source": [
    "# create function to determine if string is a vowel\n",
    "\n",
    "def is_vowel(x): \n",
    "   \n",
    "    '''\n",
    "    This function accepts a string input and uses regex to determine if it is a vowel.\n",
    "    '''\n",
    "    \n",
    "    # regex for vowel check\n",
    "    regex = r'^[aeiouAEIOU]$'\n",
    "    \n",
    "    # use search() method\n",
    "    if(re.search(regex, x)):\n",
    "        result=True\n",
    "        \n",
    "    else:\n",
    "        result=False\n",
    "        \n",
    "    return result"
   ]
  },
  {
   "cell_type": "code",
   "execution_count": 3,
   "id": "4113ac03",
   "metadata": {},
   "outputs": [
    {
     "data": {
      "text/plain": [
       "True"
      ]
     },
     "execution_count": 3,
     "metadata": {},
     "output_type": "execute_result"
    }
   ],
   "source": [
    "is_vowel('a')"
   ]
  },
  {
   "cell_type": "code",
   "execution_count": 4,
   "id": "1e51919e",
   "metadata": {},
   "outputs": [
    {
     "data": {
      "text/plain": [
       "True"
      ]
     },
     "execution_count": 4,
     "metadata": {},
     "output_type": "execute_result"
    }
   ],
   "source": [
    "is_vowel('E')"
   ]
  },
  {
   "cell_type": "code",
   "execution_count": 5,
   "id": "5f080d22",
   "metadata": {},
   "outputs": [
    {
     "data": {
      "text/plain": [
       "False"
      ]
     },
     "execution_count": 5,
     "metadata": {},
     "output_type": "execute_result"
    }
   ],
   "source": [
    "is_vowel('b')"
   ]
  },
  {
   "cell_type": "code",
   "execution_count": 6,
   "id": "18acdc56",
   "metadata": {},
   "outputs": [
    {
     "data": {
      "text/plain": [
       "False"
      ]
     },
     "execution_count": 6,
     "metadata": {},
     "output_type": "execute_result"
    }
   ],
   "source": [
    "is_vowel('C')"
   ]
  },
  {
   "cell_type": "markdown",
   "id": "2fdd149a",
   "metadata": {},
   "source": [
    "#### 2. Write a function named is_valid_username that accepts a string as input. A valid username starts with a lowercase letter, and only consists of lowercase letters, numbers, or the _ character. It should also be no longer than 32 characters. The function should return either True or False depending on whether the passed string is a valid username.\n",
    "\n",
    "- is_valid_username('aaaaaaaaaaaaaaaaaaaaaaaaaaaaaaaaa')\n",
    "    - False\n",
    "- is_valid_username('codeup')\n",
    "    - True\n",
    "- is_valid_username('Codeup')\n",
    "    - False\n",
    "- is_valid_username('codeup123')\n",
    "    - True\n",
    "- is_valid_username('1codeup')\n",
    "    - False"
   ]
  },
  {
   "cell_type": "code",
   "execution_count": 7,
   "id": "83815c04",
   "metadata": {},
   "outputs": [],
   "source": [
    "# create function to check for valid usernames\n",
    "\n",
    "def is_valid_username(username):\n",
    "    \n",
    "    '''\n",
    "    This function accepts a string as input and checks to see if username: \n",
    "    starts with a lowercase letter, \n",
    "    only consists of lowercase letters, numbers, or the _ character,\n",
    "    is no longer than 32 characters. \n",
    "    Returns True is valid and False if invalid. \n",
    "    \n",
    "    '''\n",
    "    \n",
    "    # regex for valid username perameters\n",
    "    regex =r'^[a-z][a-z0-9_+]{2,32}$'\n",
    "    \n",
    "    # use serch() method\n",
    "    if(re.search(regex, username)):\n",
    "        result=True\n",
    "        \n",
    "    else:\n",
    "        result=False\n",
    "        \n",
    "    return result"
   ]
  },
  {
   "cell_type": "code",
   "execution_count": 8,
   "id": "15087707",
   "metadata": {},
   "outputs": [
    {
     "data": {
      "text/plain": [
       "True"
      ]
     },
     "execution_count": 8,
     "metadata": {},
     "output_type": "execute_result"
    }
   ],
   "source": [
    "is_valid_username('aaaaaaaaaaaaaaaaaaaaaaaaaaaaaaaaa')"
   ]
  },
  {
   "cell_type": "code",
   "execution_count": 9,
   "id": "10195b68",
   "metadata": {},
   "outputs": [
    {
     "data": {
      "text/plain": [
       "True"
      ]
     },
     "execution_count": 9,
     "metadata": {},
     "output_type": "execute_result"
    }
   ],
   "source": [
    "is_valid_username('codeup')"
   ]
  },
  {
   "cell_type": "code",
   "execution_count": 10,
   "id": "52906222",
   "metadata": {},
   "outputs": [
    {
     "data": {
      "text/plain": [
       "False"
      ]
     },
     "execution_count": 10,
     "metadata": {},
     "output_type": "execute_result"
    }
   ],
   "source": [
    "is_valid_username('Codeup')"
   ]
  },
  {
   "cell_type": "code",
   "execution_count": 11,
   "id": "245ab79c",
   "metadata": {},
   "outputs": [
    {
     "data": {
      "text/plain": [
       "True"
      ]
     },
     "execution_count": 11,
     "metadata": {},
     "output_type": "execute_result"
    }
   ],
   "source": [
    "is_valid_username('codeup123')"
   ]
  },
  {
   "cell_type": "code",
   "execution_count": 12,
   "id": "85ff8617",
   "metadata": {},
   "outputs": [
    {
     "data": {
      "text/plain": [
       "False"
      ]
     },
     "execution_count": 12,
     "metadata": {},
     "output_type": "execute_result"
    }
   ],
   "source": [
    "is_valid_username('1codeup')"
   ]
  },
  {
   "cell_type": "markdown",
   "id": "b90df38c",
   "metadata": {},
   "source": [
    "#### 3. Write a regular expression to capture phone numbers. It should match all of the following:\n",
    "\n",
    "- (210) 867 5309\n",
    "- +1 210.867.5309\n",
    "- 867-5309\n",
    "- 210-867-5309"
   ]
  },
  {
   "cell_type": "code",
   "execution_count": 13,
   "id": "7f66b15d",
   "metadata": {},
   "outputs": [],
   "source": [
    "# question mark metacharacter means the thing to the left of the ? is optional: ?[0-9]"
   ]
  },
  {
   "cell_type": "code",
   "execution_count": 14,
   "id": "55fe00d7",
   "metadata": {},
   "outputs": [
    {
     "data": {
      "text/plain": [
       "['(210) 867 5309']"
      ]
     },
     "execution_count": 14,
     "metadata": {},
     "output_type": "execute_result"
    }
   ],
   "source": [
    "# use findall to return all matches \n",
    "re.findall(r'[(]\\d{3}[)]\\s[0-9]{3}\\s[0-9]{4}', '(210) 867 5309')"
   ]
  },
  {
   "cell_type": "code",
   "execution_count": 15,
   "id": "e54e3236",
   "metadata": {},
   "outputs": [
    {
     "data": {
      "text/plain": [
       "['+1 210.867.5309']"
      ]
     },
     "execution_count": 15,
     "metadata": {},
     "output_type": "execute_result"
    }
   ],
   "source": [
    "# use findall to return all matches \n",
    "re.findall(r'[+]\\d\\s\\d{3}[.][0-9]{3}[.][0-9]{4}', '+1 210.867.5309')"
   ]
  },
  {
   "cell_type": "code",
   "execution_count": 16,
   "id": "19dc9ec7",
   "metadata": {},
   "outputs": [
    {
     "data": {
      "text/plain": [
       "['867-5309']"
      ]
     },
     "execution_count": 16,
     "metadata": {},
     "output_type": "execute_result"
    }
   ],
   "source": [
    "# use findall to return all matches \n",
    "re.findall(r'[0-9]{3}[-][0-9]{4}', '867-5309')"
   ]
  },
  {
   "cell_type": "code",
   "execution_count": 17,
   "id": "9d9ad28d",
   "metadata": {},
   "outputs": [
    {
     "data": {
      "text/plain": [
       "['867-5309']"
      ]
     },
     "execution_count": 17,
     "metadata": {},
     "output_type": "execute_result"
    }
   ],
   "source": [
    "# use findall to return all matches \n",
    "re.findall(r'[0-9]{3}[-][0-9]{4}', '867-5309')"
   ]
  },
  {
   "cell_type": "code",
   "execution_count": 18,
   "id": "c8d7eeaf",
   "metadata": {},
   "outputs": [
    {
     "data": {
      "text/plain": [
       "['210-867-5309']"
      ]
     },
     "execution_count": 18,
     "metadata": {},
     "output_type": "execute_result"
    }
   ],
   "source": [
    "# use findall to return all matches \n",
    "re.findall(r'[0-9]{3}[-][0-9]{3}[-][0-9]{4}', '210-867-5309')"
   ]
  },
  {
   "cell_type": "markdown",
   "id": "16329cc9",
   "metadata": {},
   "source": [
    "#### 4. Use regular expressions to convert the dates below to the standardized year-month-day format."
   ]
  },
  {
   "cell_type": "markdown",
   "id": "b5414cbf",
   "metadata": {},
   "source": [
    "- 02/04/19\n",
    "- 02/05/19\n",
    "- 02/06/19\n",
    "- 02/07/19\n",
    "- 02/08/19\n",
    "- 02/09/19\n",
    "- 02/10/19"
   ]
  },
  {
   "cell_type": "code",
   "execution_count": 19,
   "id": "d7503c50",
   "metadata": {},
   "outputs": [],
   "source": [
    "# re.sub allows us to match a regex and substitute in a new substring for the match\n",
    "# re.sub(pattern, repl, string, count=0, flags=0"
   ]
  },
  {
   "cell_type": "code",
   "execution_count": 20,
   "id": "73390141",
   "metadata": {},
   "outputs": [],
   "source": [
    "# Create list of dates\n",
    "dates = [\n",
    "    '02/04/19',\n",
    "    '02/05/19',\n",
    "    '02/06/19',\n",
    "    '02/07/19',\n",
    "    '02/08/19',\n",
    "    '02/09/19',\n",
    "    '02/10/19']"
   ]
  },
  {
   "cell_type": "code",
   "execution_count": 21,
   "id": "29a1f2e4",
   "metadata": {},
   "outputs": [
    {
     "data": {
      "text/plain": [
       "['2019-02-04',\n",
       " '2019-02-05',\n",
       " '2019-02-06',\n",
       " '2019-02-07',\n",
       " '2019-02-08',\n",
       " '2019-02-09',\n",
       " '2019-02-10']"
      ]
     },
     "execution_count": 21,
     "metadata": {},
     "output_type": "execute_result"
    }
   ],
   "source": [
    "[re.sub('(\\d+)/(\\d+)/(\\d+)', r'20\\3-\\1-\\2',date) for date in dates]"
   ]
  },
  {
   "cell_type": "markdown",
   "id": "ac5f4e98",
   "metadata": {},
   "source": [
    "#### 5. Write a regex to extract the various parts of these logfile lines:\n",
    "\n",
    "- GET /api/v1/sales?page=86 [16/Apr/2019:193452+0000] HTTP/1.1 {200} 510348 \"python-requests/2.21.0\" 97.105.19.58\n",
    "\n",
    "- POST /users_accounts/file-upload [16/Apr/2019:193452+0000] HTTP/1.1 {201} 42 \"User-Agent: Mozilla/5.0 (X11; Fedora; Fedora; Linux x86_64) AppleWebKit/537.36 (KHTML, like Gecko) Chrome/73.0.3683.86 Safari/537.36\" 97.105.19.58\n",
    "\n",
    "- GET /api/v1/items?page=3 [16/Apr/2019:193453+0000] HTTP/1.1 {429} 3561 \"python-requests/2.21.0\" 97.105.19.58"
   ]
  },
  {
   "cell_type": "markdown",
   "id": "a2fd9b07",
   "metadata": {},
   "source": [
    "#### Bonus Exercise\n",
    "\n",
    "#### You can find a list of words on your mac at /usr/share/dict/words. Use this file to answer the following questions:\n",
    "\n",
    "\n",
    "- How many words have at least 3 vowels?\n",
    "- How many words have at least 3 vowels in a row?\n",
    "- How many words have at least 4 consonants in a row?\n",
    "- How many words start and end with the same letter?\n",
    "- How many words start and end with a vowel?\n",
    "- How many words contain the same letter 3 times in a row?\n",
    "- What other interesting patterns in words can you find?"
   ]
  },
  {
   "cell_type": "markdown",
   "id": "d2f0d074",
   "metadata": {},
   "source": [
    "#### Extra Regex Stuff: "
   ]
  },
  {
   "cell_type": "code",
   "execution_count": 48,
   "id": "0319b03f",
   "metadata": {},
   "outputs": [],
   "source": [
    "#https://docs.python.org/3/library/re.html\n",
    "#>>> def dashrepl(matchobj):\n",
    "#...     if matchobj.group(0) == '-': return ' '\n",
    "#...     else: return '-'\n",
    "#>>> re.sub('-{1,2}', dashrepl, 'pro----gram-files')\n",
    "#'pro--gram files'\n",
    "#>>> re.sub(r'\\sAND\\s', ' & ', 'Baked Beans And Spam', flags=re.IGNORECASE)\n",
    "#'Baked Beans & Spam'"
   ]
  },
  {
   "cell_type": "code",
   "execution_count": 49,
   "id": "383b708d",
   "metadata": {},
   "outputs": [],
   "source": [
    "def forward_slash_replace(matchobj):\n",
    "    if matchobj.group(0) == '/': return '-'\n",
    "    else: return ' '"
   ]
  },
  {
   "cell_type": "code",
   "execution_count": 50,
   "id": "80e65827",
   "metadata": {},
   "outputs": [
    {
     "data": {
      "text/plain": [
       "'02-04-19'"
      ]
     },
     "execution_count": 50,
     "metadata": {},
     "output_type": "execute_result"
    }
   ],
   "source": [
    "re.sub('/{1,3}', forward_slash_replace, '02/04/19')"
   ]
  },
  {
   "cell_type": "code",
   "execution_count": null,
   "id": "7667fb27",
   "metadata": {},
   "outputs": [],
   "source": []
  }
 ],
 "metadata": {
  "kernelspec": {
   "display_name": "Python 3",
   "language": "python",
   "name": "python3"
  },
  "language_info": {
   "codemirror_mode": {
    "name": "ipython",
    "version": 3
   },
   "file_extension": ".py",
   "mimetype": "text/x-python",
   "name": "python",
   "nbconvert_exporter": "python",
   "pygments_lexer": "ipython3",
   "version": "3.8.8"
  }
 },
 "nbformat": 4,
 "nbformat_minor": 5
}
