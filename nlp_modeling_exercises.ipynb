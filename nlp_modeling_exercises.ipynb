{
 "cells": [
  {
   "cell_type": "markdown",
   "id": "02b40ce4",
   "metadata": {},
   "source": [
    "# NLP Modeling Exercises "
   ]
  },
  {
   "cell_type": "markdown",
   "id": "691688ec",
   "metadata": {},
   "source": [
    "Take the work we did in the lessons further:\n",
    "\n",
    "1. What other types of models (i.e. different classifcation algorithms) could you use? Create a model with a different algorithm.\n"
   ]
  },
  {
   "cell_type": "code",
   "execution_count": 2,
   "id": "68681ff3",
   "metadata": {},
   "outputs": [],
   "source": [
    "from pprint import pprint\n",
    "\n",
    "import pandas as pd\n",
    "import numpy as np\n",
    "\n",
    "import matplotlib.pyplot as plt\n",
    "\n",
    "from prepare import basic_clean, lemmatize"
   ]
  },
  {
   "cell_type": "code",
   "execution_count": 3,
   "id": "d51d5894",
   "metadata": {},
   "outputs": [],
   "source": [
    "news_df = pd.read_json('inshorts-2022-02-07.json')"
   ]
  },
  {
   "cell_type": "code",
   "execution_count": 4,
   "id": "ab8ad114",
   "metadata": {},
   "outputs": [
    {
     "data": {
      "text/html": [
       "<div>\n",
       "<style scoped>\n",
       "    .dataframe tbody tr th:only-of-type {\n",
       "        vertical-align: middle;\n",
       "    }\n",
       "\n",
       "    .dataframe tbody tr th {\n",
       "        vertical-align: top;\n",
       "    }\n",
       "\n",
       "    .dataframe thead th {\n",
       "        text-align: right;\n",
       "    }\n",
       "</style>\n",
       "<table border=\"1\" class=\"dataframe\">\n",
       "  <thead>\n",
       "    <tr style=\"text-align: right;\">\n",
       "      <th></th>\n",
       "      <th>title</th>\n",
       "      <th>published</th>\n",
       "      <th>author</th>\n",
       "      <th>content</th>\n",
       "      <th>category</th>\n",
       "    </tr>\n",
       "  </thead>\n",
       "  <tbody>\n",
       "    <tr>\n",
       "      <th>0</th>\n",
       "      <td>Start demolition of Supertech's 40-storey twin...</td>\n",
       "      <td>2022-02-07T11:05:31.000Z</td>\n",
       "      <td>Ridham Gambhir</td>\n",
       "      <td>The Supreme Court on Monday ordered that the d...</td>\n",
       "      <td>business</td>\n",
       "    </tr>\n",
       "    <tr>\n",
       "      <th>1</th>\n",
       "      <td>The focus is on growth and adoption for Digita...</td>\n",
       "      <td>2022-02-07T06:10:25.000Z</td>\n",
       "      <td>Roshan Gupta</td>\n",
       "      <td>Union Budget 2022 is focused on promoting digi...</td>\n",
       "      <td>business</td>\n",
       "    </tr>\n",
       "    <tr>\n",
       "      <th>2</th>\n",
       "      <td>COVID, you did your worst &amp; stole our voice: M...</td>\n",
       "      <td>2022-02-06T15:37:00.000Z</td>\n",
       "      <td>Sakshita Khosla</td>\n",
       "      <td>Businessman Anand Mahindra on Sunday shared a ...</td>\n",
       "      <td>business</td>\n",
       "    </tr>\n",
       "    <tr>\n",
       "      <th>3</th>\n",
       "      <td>Meta says data regulations may cause Facebook,...</td>\n",
       "      <td>2022-02-07T09:20:26.000Z</td>\n",
       "      <td>Pragya Swastik</td>\n",
       "      <td>Meta in its annual report to the US SEC said i...</td>\n",
       "      <td>business</td>\n",
       "    </tr>\n",
       "    <tr>\n",
       "      <th>4</th>\n",
       "      <td>Wishy-washy words not needed, say sorry: Shiv ...</td>\n",
       "      <td>2022-02-07T11:20:42.000Z</td>\n",
       "      <td>Pragya Swastik</td>\n",
       "      <td>Shiv Sena's MP Priyanka Chaturvedi tweeted to ...</td>\n",
       "      <td>business</td>\n",
       "    </tr>\n",
       "  </tbody>\n",
       "</table>\n",
       "</div>"
      ],
      "text/plain": [
       "                                               title  \\\n",
       "0  Start demolition of Supertech's 40-storey twin...   \n",
       "1  The focus is on growth and adoption for Digita...   \n",
       "2  COVID, you did your worst & stole our voice: M...   \n",
       "3  Meta says data regulations may cause Facebook,...   \n",
       "4  Wishy-washy words not needed, say sorry: Shiv ...   \n",
       "\n",
       "                  published           author  \\\n",
       "0  2022-02-07T11:05:31.000Z   Ridham Gambhir   \n",
       "1  2022-02-07T06:10:25.000Z     Roshan Gupta   \n",
       "2  2022-02-06T15:37:00.000Z  Sakshita Khosla   \n",
       "3  2022-02-07T09:20:26.000Z   Pragya Swastik   \n",
       "4  2022-02-07T11:20:42.000Z   Pragya Swastik   \n",
       "\n",
       "                                             content  category  \n",
       "0  The Supreme Court on Monday ordered that the d...  business  \n",
       "1  Union Budget 2022 is focused on promoting digi...  business  \n",
       "2  Businessman Anand Mahindra on Sunday shared a ...  business  \n",
       "3  Meta in its annual report to the US SEC said i...  business  \n",
       "4  Shiv Sena's MP Priyanka Chaturvedi tweeted to ...  business  "
      ]
     },
     "execution_count": 4,
     "metadata": {},
     "output_type": "execute_result"
    }
   ],
   "source": [
    "news_df.head()"
   ]
  },
  {
   "cell_type": "markdown",
   "id": "ed763f72",
   "metadata": {},
   "source": [
    "2. How do the models compare when trained on term frequency data alone, instead of TF-IDF values?"
   ]
  },
  {
   "cell_type": "code",
   "execution_count": null,
   "id": "d209f040",
   "metadata": {},
   "outputs": [],
   "source": []
  }
 ],
 "metadata": {
  "kernelspec": {
   "display_name": "Python 3",
   "language": "python",
   "name": "python3"
  },
  "language_info": {
   "codemirror_mode": {
    "name": "ipython",
    "version": 3
   },
   "file_extension": ".py",
   "mimetype": "text/x-python",
   "name": "python",
   "nbconvert_exporter": "python",
   "pygments_lexer": "ipython3",
   "version": "3.8.8"
  }
 },
 "nbformat": 4,
 "nbformat_minor": 5
}
