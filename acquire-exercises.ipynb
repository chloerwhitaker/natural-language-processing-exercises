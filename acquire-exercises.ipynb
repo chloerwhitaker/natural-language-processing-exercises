{
 "cells": [
  {
   "cell_type": "markdown",
   "id": "f3d125f9",
   "metadata": {},
   "source": [
    "# Acquire Data through Web Scraping Exercises\n"
   ]
  },
  {
   "cell_type": "markdown",
   "id": "c58e8135",
   "metadata": {},
   "source": [
    "By the end of this exercise, you should have a file named acquire.py that contains the specified functions. If you wish, you may break your work into separate files for each website (e.g. acquire_codeup_blog.py and acquire_news_articles.py), but the end function should be present in acquire.py (that is, acquire.py should import get_blog_articles from the acquire_codeup_blog module.)\n",
    "\n"
   ]
  },
  {
   "cell_type": "markdown",
   "id": "fb96cdd5",
   "metadata": {},
   "source": [
    "### imports"
   ]
  },
  {
   "cell_type": "code",
   "execution_count": 63,
   "id": "2064ff24",
   "metadata": {},
   "outputs": [],
   "source": [
    "import requests\n",
    "from bs4 import BeautifulSoup\n",
    "import pandas as pd\n",
    "from time import strftime\n"
   ]
  },
  {
   "cell_type": "markdown",
   "id": "51dd2891",
   "metadata": {},
   "source": [
    "#### 1. Codeup Blog Articles\n",
    "\n",
    "Visit Codeup's Blog and record the urls for at least 5 distinct blog posts. For each post, you should scrape at least the post's title and content.\n",
    "\n",
    "Encapsulate your work in a function named get_blog_articles that will return a list of dictionaries, with each dictionary representing one article. The shape of each dictionary should look like this:"
   ]
  },
  {
   "cell_type": "code",
   "execution_count": 64,
   "id": "38d4f1f8",
   "metadata": {},
   "outputs": [],
   "source": [
    "# {\n",
    "#     'title': 'the title of the article',\n",
    "#     'content': 'the full text content of the article'\n",
    "# # "
   ]
  },
  {
   "cell_type": "markdown",
   "id": "7dfe3108",
   "metadata": {},
   "source": [
    "Plus any additional properties you think might be helpful.\n",
    "\n",
    "Bonus: Scrape the text of all the articles linked on codeup's blog page."
   ]
  },
  {
   "cell_type": "code",
   "execution_count": 65,
   "id": "2ac2f93c",
   "metadata": {},
   "outputs": [],
   "source": [
    "# https://codeup.com/blog/"
   ]
  },
  {
   "cell_type": "markdown",
   "id": "e7def7b5",
   "metadata": {},
   "source": [
    "Articles to scrape: \n",
    "\n",
    "https://codeup.com/codeup-news/codeup-start-dates-for-march-2022/\n",
    "https://codeup.com/codeup-news/vet-tec-funding-dallas/\n",
    "https://codeup.com/codeup-news/dallas-campus-re-opens-with-new-grant-partner/\n",
    "https://codeup.com/dallas-newsletter/codeup-dallas-open-house/\n",
    "https://codeup.com/codeup-news/codeups-placement-team-continues-setting-records/\n"
   ]
  },
  {
   "cell_type": "code",
   "execution_count": 66,
   "id": "b874ccd7",
   "metadata": {},
   "outputs": [],
   "source": [
    "# response = requests.get('https://codeup.com/blog/', headers={'user-agent': 'Codeup DS Hopper'})\n",
    "# soup = BeautifulSoup(response.text)"
   ]
  },
  {
   "cell_type": "code",
   "execution_count": 67,
   "id": "5648ba6a",
   "metadata": {},
   "outputs": [],
   "source": [
    "response = requests.get('https://codeup.com/dallas-newsletter/codeup-dallas-open-house/', headers={'user-agent': 'Codeup DS Hopper'})\n",
    "html = response.text\n",
    "# html"
   ]
  },
  {
   "cell_type": "code",
   "execution_count": 68,
   "id": "8abe01a2",
   "metadata": {},
   "outputs": [],
   "source": [
    "soup = BeautifulSoup(response.text)"
   ]
  },
  {
   "cell_type": "code",
   "execution_count": 69,
   "id": "171fb13a",
   "metadata": {},
   "outputs": [],
   "source": [
    "# print(soup.prettify())"
   ]
  },
  {
   "cell_type": "markdown",
   "id": "2b5df486",
   "metadata": {},
   "source": [
    "To get this info I'll go to the webpage and right click the title and content individually and click \"Inspect\" to get the element I need for extraction. "
   ]
  },
  {
   "cell_type": "code",
   "execution_count": 70,
   "id": "ed2c95f7",
   "metadata": {},
   "outputs": [],
   "source": [
    "title = soup.select_one(\".entry-title\").text"
   ]
  },
  {
   "cell_type": "code",
   "execution_count": 71,
   "id": "23d3830a",
   "metadata": {},
   "outputs": [
    {
     "data": {
      "text/plain": [
       "'Codeup Dallas Open House'"
      ]
     },
     "execution_count": 71,
     "metadata": {},
     "output_type": "execute_result"
    }
   ],
   "source": [
    "title"
   ]
  },
  {
   "cell_type": "code",
   "execution_count": 72,
   "id": "21710439",
   "metadata": {},
   "outputs": [],
   "source": [
    "content = soup.select_one(\".entry-content\").text.strip()"
   ]
  },
  {
   "cell_type": "code",
   "execution_count": 73,
   "id": "4b538550",
   "metadata": {},
   "outputs": [
    {
     "data": {
      "text/plain": [
       "'Come join us for the re-opening of our Dallas Campus with some drinks and snacks at Codeup! Curious about what our campus looks like? Click here to register for free\\nAbout this event\\nCome join us for the re-opening of our Dallas Campus with some drinks and snacks at Codeup!\\nCurious about what our campus looks like? Interested in our Web Development Career Accelerator? Keen to chat with an instructor or financial aid rep?\\nAt our Open House, we are here to answer all your questions!\\nMeet a Codeup instructor, who can help explain what’s taught in our classes and answer questions.\\nUnderstand how to join one of our upcoming cohort ( Dec. 6th).\\nDon’t miss this opportunity to learn more about how you can start the new year transitioning into a new, exciting career in tech. We’re here to answer any questions you may have about Codeup and your future.\\nTake the first step of your new career today and create your tomorrow!'"
      ]
     },
     "execution_count": 73,
     "metadata": {},
     "output_type": "execute_result"
    }
   ],
   "source": [
    "content"
   ]
  },
  {
   "cell_type": "code",
   "execution_count": 74,
   "id": "c5a1905a",
   "metadata": {},
   "outputs": [],
   "source": [
    "# function to get all links from the main blog page\n",
    "\n",
    "def get_blog_links():\n",
    "    \n",
    "    '''\n",
    "    This function returns a list of all the urls linked on Codeup's main blog page.\n",
    "    '''\n",
    "    \n",
    "    # imports\n",
    "    import requests\n",
    "    from bs4 import BeautifulSoup\n",
    "    \n",
    "    response = requests.get(\"https://codeup.com/blog/\", headers={\"user-agent\": \"Codeup DS Hopper\"})\n",
    "    soup = BeautifulSoup(response.text)\n",
    "    links = [link.attrs[\"href\"] for link in soup.select(\".more-link\")]\n",
    "    return links\n"
   ]
  },
  {
   "cell_type": "code",
   "execution_count": 75,
   "id": "fb6664ea",
   "metadata": {},
   "outputs": [
    {
     "data": {
      "text/plain": [
       "['https://codeup.com/dallas-newsletter/codeup-dallas-open-house/',\n",
       " 'https://codeup.com/codeup-news/codeups-placement-team-continues-setting-records/',\n",
       " 'https://codeup.com/it-training/it-certifications-101/',\n",
       " 'https://codeup.com/cybersecurity/a-rise-in-cyber-attacks-means-opportunities-for-veterans-in-san-antonio/',\n",
       " 'https://codeup.com/codeup-news/use-your-gi-bill-benefits-to-land-a-job-in-tech/',\n",
       " 'https://codeup.com/tips-for-prospective-students/which-program-is-right-for-me-cyber-security-or-systems-engineering/',\n",
       " 'https://codeup.com/it-training/what-the-heck-is-system-engineering/',\n",
       " 'https://codeup.com/alumni-stories/from-speech-pathology-to-business-intelligence/',\n",
       " 'https://codeup.com/behind-the-billboards/boris-behind-the-billboards/',\n",
       " 'https://codeup.com/codeup-news/is-codeup-the-best-bootcamp-in-san-antonio-or-the-world/',\n",
       " 'https://codeup.com/codeup-news/codeup-launches-first-podcast-hire-tech/',\n",
       " 'https://codeup.com/tips-for-prospective-students/why-should-i-become-a-system-administrator/',\n",
       " 'https://codeup.com/codeup-news/codeup-candidate-for-accreditation/',\n",
       " 'https://codeup.com/codeup-news/codeup-takes-over-more-of-the-historic-vogue-building/',\n",
       " 'https://codeup.com/codeup-news/inclusion-at-codeup-during-pride-month-and-always/']"
      ]
     },
     "execution_count": 75,
     "metadata": {},
     "output_type": "execute_result"
    }
   ],
   "source": [
    "# use function to get list of links\n",
    "get_blog_links()"
   ]
  },
  {
   "cell_type": "code",
   "execution_count": 76,
   "id": "f5419b2f",
   "metadata": {},
   "outputs": [],
   "source": [
    "def parse_codeup_blog_article(url):\n",
    "    \n",
    "    '''\n",
    "    This function: \n",
    "    takes url of blog post,\n",
    "    extracts info\n",
    "    returns the specified info as a dictionary\n",
    "    '''\n",
    "    \n",
    "    # imports\n",
    "    import requests\n",
    "    from bs4 import BeautifulSoup\n",
    "    \n",
    "    response = requests.get(url, headers={\"user-agent\": \"Codeup DS Hopper\"})\n",
    "    soup = BeautifulSoup(response.text)\n",
    "    return {\n",
    "        \"title\": soup.select_one(\".entry-title\").text,\n",
    "        \"published\": soup.select_one(\".published\").text,\n",
    "        \"content\": soup.select_one(\".entry-content\").text.strip(),\n",
    "    }\n",
    "\n"
   ]
  },
  {
   "cell_type": "code",
   "execution_count": 77,
   "id": "dc0e3993",
   "metadata": {},
   "outputs": [],
   "source": [
    "url = 'https://codeup.com/dallas-newsletter/codeup-dallas-open-house/'"
   ]
  },
  {
   "cell_type": "code",
   "execution_count": 78,
   "id": "159481ea",
   "metadata": {},
   "outputs": [
    {
     "data": {
      "text/plain": [
       "{'title': 'Codeup Dallas Open House',\n",
       " 'published': 'Nov 30, 2021',\n",
       " 'content': 'Come join us for the re-opening of our Dallas Campus with some drinks and snacks at Codeup! Curious about what our campus looks like? Click here to register for free\\nAbout this event\\nCome join us for the re-opening of our Dallas Campus with some drinks and snacks at Codeup!\\nCurious about what our campus looks like? Interested in our Web Development Career Accelerator? Keen to chat with an instructor or financial aid rep?\\nAt our Open House, we are here to answer all your questions!\\nMeet a Codeup instructor, who can help explain what’s taught in our classes and answer questions.\\nUnderstand how to join one of our upcoming cohort ( Dec. 6th).\\nDon’t miss this opportunity to learn more about how you can start the new year transitioning into a new, exciting career in tech. We’re here to answer any questions you may have about Codeup and your future.\\nTake the first step of your new career today and create your tomorrow!'}"
      ]
     },
     "execution_count": 78,
     "metadata": {},
     "output_type": "execute_result"
    }
   ],
   "source": [
    "parse_codeup_blog_article(url)"
   ]
  },
  {
   "cell_type": "code",
   "execution_count": 79,
   "id": "c31d8c7d",
   "metadata": {},
   "outputs": [],
   "source": [
    "# return blog article info as a df\n",
    "def get_blog_articles_info():\n",
    "    \n",
    "    '''\n",
    "    This function: \n",
    "    uses get_blog_links to get blog post links from the main Codeup blog page,\n",
    "    extracts info using parse_codeup_blog_article,\n",
    "    returns the specified info as a df where each row contains a seperate blog title\n",
    "    '''\n",
    "    \n",
    "    # imports\n",
    "    import requests\n",
    "    from bs4 import BeautifulSoup\n",
    "    \n",
    "    links = get_blog_links()\n",
    "    df = pd.DataFrame([parse_codeup_blog_article(link) for link in links])\n",
    "    return df"
   ]
  },
  {
   "cell_type": "code",
   "execution_count": 80,
   "id": "251ed09d",
   "metadata": {},
   "outputs": [
    {
     "data": {
      "text/html": [
       "<div>\n",
       "<style scoped>\n",
       "    .dataframe tbody tr th:only-of-type {\n",
       "        vertical-align: middle;\n",
       "    }\n",
       "\n",
       "    .dataframe tbody tr th {\n",
       "        vertical-align: top;\n",
       "    }\n",
       "\n",
       "    .dataframe thead th {\n",
       "        text-align: right;\n",
       "    }\n",
       "</style>\n",
       "<table border=\"1\" class=\"dataframe\">\n",
       "  <thead>\n",
       "    <tr style=\"text-align: right;\">\n",
       "      <th></th>\n",
       "      <th>title</th>\n",
       "      <th>published</th>\n",
       "      <th>content</th>\n",
       "    </tr>\n",
       "  </thead>\n",
       "  <tbody>\n",
       "    <tr>\n",
       "      <th>0</th>\n",
       "      <td>Codeup Dallas Open House</td>\n",
       "      <td>Nov 30, 2021</td>\n",
       "      <td>Come join us for the re-opening of our Dallas ...</td>\n",
       "    </tr>\n",
       "    <tr>\n",
       "      <th>1</th>\n",
       "      <td>Codeup’s Placement Team Continues Setting Records</td>\n",
       "      <td>Nov 19, 2021</td>\n",
       "      <td>Our Placement Team is simply defined as a grou...</td>\n",
       "    </tr>\n",
       "    <tr>\n",
       "      <th>2</th>\n",
       "      <td>IT Certifications 101: Why They Matter, and Wh...</td>\n",
       "      <td>Nov 18, 2021</td>\n",
       "      <td>AWS, Google, Azure, Red Hat, CompTIA…these are...</td>\n",
       "    </tr>\n",
       "    <tr>\n",
       "      <th>3</th>\n",
       "      <td>A rise in cyber attacks means opportunities fo...</td>\n",
       "      <td>Nov 17, 2021</td>\n",
       "      <td>In the last few months, the US has experienced...</td>\n",
       "    </tr>\n",
       "    <tr>\n",
       "      <th>4</th>\n",
       "      <td>Use your GI Bill® benefits to Land a Job in Tech</td>\n",
       "      <td>Nov 4, 2021</td>\n",
       "      <td>As the end of military service gets closer, ma...</td>\n",
       "    </tr>\n",
       "    <tr>\n",
       "      <th>5</th>\n",
       "      <td>Which program is right for me: Cyber Security ...</td>\n",
       "      <td>Oct 28, 2021</td>\n",
       "      <td>What IT Career should I choose?\\nIf you’re thi...</td>\n",
       "    </tr>\n",
       "    <tr>\n",
       "      <th>6</th>\n",
       "      <td>What the Heck is System Engineering?</td>\n",
       "      <td>Oct 21, 2021</td>\n",
       "      <td>Codeup offers a 13-week training program: Syst...</td>\n",
       "    </tr>\n",
       "    <tr>\n",
       "      <th>7</th>\n",
       "      <td>From Speech Pathology to Business Intelligence</td>\n",
       "      <td>Oct 18, 2021</td>\n",
       "      <td>By: Alicia Gonzalez\\nBefore Codeup, I was a ho...</td>\n",
       "    </tr>\n",
       "    <tr>\n",
       "      <th>8</th>\n",
       "      <td>Boris – Behind the Billboards</td>\n",
       "      <td>Oct 3, 2021</td>\n",
       "      <td></td>\n",
       "    </tr>\n",
       "    <tr>\n",
       "      <th>9</th>\n",
       "      <td>Is Codeup the Best Bootcamp in San Antonio…or ...</td>\n",
       "      <td>Sep 16, 2021</td>\n",
       "      <td>Looking for the best data science bootcamp in ...</td>\n",
       "    </tr>\n",
       "    <tr>\n",
       "      <th>10</th>\n",
       "      <td>Codeup Launches First Podcast: Hire Tech</td>\n",
       "      <td>Aug 25, 2021</td>\n",
       "      <td>Any podcast enthusiasts out there? We are plea...</td>\n",
       "    </tr>\n",
       "    <tr>\n",
       "      <th>11</th>\n",
       "      <td>Why Should I Become a System Administrator?</td>\n",
       "      <td>Aug 23, 2021</td>\n",
       "      <td>With so many tech careers in demand, why choos...</td>\n",
       "    </tr>\n",
       "    <tr>\n",
       "      <th>12</th>\n",
       "      <td>Announcing our Candidacy for Accreditation!</td>\n",
       "      <td>Jun 30, 2021</td>\n",
       "      <td>Did you know that even though we’re an indepen...</td>\n",
       "    </tr>\n",
       "    <tr>\n",
       "      <th>13</th>\n",
       "      <td>Codeup Takes Over More of the Historic Vogue B...</td>\n",
       "      <td>Jun 21, 2021</td>\n",
       "      <td>Codeup is moving into another floor of our His...</td>\n",
       "    </tr>\n",
       "    <tr>\n",
       "      <th>14</th>\n",
       "      <td>Inclusion at Codeup During Pride Month (and Al...</td>\n",
       "      <td>Jun 4, 2021</td>\n",
       "      <td>Happy Pride Month! Pride Month is a dedicated ...</td>\n",
       "    </tr>\n",
       "  </tbody>\n",
       "</table>\n",
       "</div>"
      ],
      "text/plain": [
       "                                                title     published  \\\n",
       "0                            Codeup Dallas Open House  Nov 30, 2021   \n",
       "1   Codeup’s Placement Team Continues Setting Records  Nov 19, 2021   \n",
       "2   IT Certifications 101: Why They Matter, and Wh...  Nov 18, 2021   \n",
       "3   A rise in cyber attacks means opportunities fo...  Nov 17, 2021   \n",
       "4    Use your GI Bill® benefits to Land a Job in Tech   Nov 4, 2021   \n",
       "5   Which program is right for me: Cyber Security ...  Oct 28, 2021   \n",
       "6                What the Heck is System Engineering?  Oct 21, 2021   \n",
       "7      From Speech Pathology to Business Intelligence  Oct 18, 2021   \n",
       "8                       Boris – Behind the Billboards   Oct 3, 2021   \n",
       "9   Is Codeup the Best Bootcamp in San Antonio…or ...  Sep 16, 2021   \n",
       "10           Codeup Launches First Podcast: Hire Tech  Aug 25, 2021   \n",
       "11        Why Should I Become a System Administrator?  Aug 23, 2021   \n",
       "12        Announcing our Candidacy for Accreditation!  Jun 30, 2021   \n",
       "13  Codeup Takes Over More of the Historic Vogue B...  Jun 21, 2021   \n",
       "14  Inclusion at Codeup During Pride Month (and Al...   Jun 4, 2021   \n",
       "\n",
       "                                              content  \n",
       "0   Come join us for the re-opening of our Dallas ...  \n",
       "1   Our Placement Team is simply defined as a grou...  \n",
       "2   AWS, Google, Azure, Red Hat, CompTIA…these are...  \n",
       "3   In the last few months, the US has experienced...  \n",
       "4   As the end of military service gets closer, ma...  \n",
       "5   What IT Career should I choose?\\nIf you’re thi...  \n",
       "6   Codeup offers a 13-week training program: Syst...  \n",
       "7   By: Alicia Gonzalez\\nBefore Codeup, I was a ho...  \n",
       "8                                                      \n",
       "9   Looking for the best data science bootcamp in ...  \n",
       "10  Any podcast enthusiasts out there? We are plea...  \n",
       "11  With so many tech careers in demand, why choos...  \n",
       "12  Did you know that even though we’re an indepen...  \n",
       "13  Codeup is moving into another floor of our His...  \n",
       "14  Happy Pride Month! Pride Month is a dedicated ...  "
      ]
     },
     "execution_count": 80,
     "metadata": {},
     "output_type": "execute_result"
    }
   ],
   "source": [
    "get_blog_articles_info()"
   ]
  },
  {
   "cell_type": "markdown",
   "id": "f94706fe",
   "metadata": {},
   "source": [
    "I want to save this info so that if the website is updated, it won't change my data during exploration etc. "
   ]
  },
  {
   "cell_type": "code",
   "execution_count": 85,
   "id": "327edf2e",
   "metadata": {},
   "outputs": [],
   "source": [
    "# save to json\n",
    "today = strftime('%Y-%m-%d')\n",
    "get_blog_articles().to_json(f'codeup_blog_{today}.json')\n"
   ]
  },
  {
   "cell_type": "markdown",
   "id": "43f77361",
   "metadata": {},
   "source": [
    "#### 2. News Articles\n",
    "\n",
    "We will now be scraping text data from inshorts, a website that provides a brief overview of many different topics.\n",
    "\n",
    "Write a function that scrapes the news articles for the following topics:\n",
    "\n",
    "- Business\n",
    "- Sports\n",
    "- Technology\n",
    "- Entertainment\n",
    "\n",
    "The end product of this should be a function named get_news_articles that returns a list of dictionaries, where each dictionary has this shape:"
   ]
  },
  {
   "cell_type": "code",
   "execution_count": 82,
   "id": "5a36960c",
   "metadata": {},
   "outputs": [],
   "source": [
    "# {\n",
    "#     'title': 'The article title',\n",
    "#     'content': 'The article content',\n",
    "#     'category': 'business' # for example\n",
    "# }"
   ]
  },
  {
   "cell_type": "markdown",
   "id": "db4e98a6",
   "metadata": {},
   "source": [
    "Hints:\n",
    "\n",
    "a. Start by inspecting the website in your browser. Figure out which elements will be useful.\n",
    "\n",
    "b. Start by creating a function that handles a single article and produces a dictionary like the one above.\n",
    "\n",
    "c. Next create a function that will find all the articles on a single page and call the function you created in the last step for every article on the page.\n",
    "\n",
    "d. Now create a function that will use the previous two functions to scrape the articles from all the pages that you need, and do any additional processing that needs to be done."
   ]
  },
  {
   "cell_type": "code",
   "execution_count": 83,
   "id": "bd4ed86e",
   "metadata": {},
   "outputs": [],
   "source": [
    "def parse_news_card(card):\n",
    "    'Given a news card object, returns a dictionary of the relevant information.'\n",
    "    card_title = card.select_one('.news-card-title')\n",
    "    output = {}\n",
    "    output['title'] = card_title.find('a').text.strip()\n",
    "    output['published'] = card_title.select_one('.time').attrs['content']\n",
    "    output['author'] = card_title.select_one('.author').text\n",
    "    output['content'] = card.select_one('.news-card-content').div.text.strip()\n",
    "    return output\n",
    "\n",
    "\n",
    "def parse_inshorts_page(url):\n",
    "    '''Given a url, returns a dataframe where each row is a news article from the url.\n",
    "    Infers the category from the last section of the url.'''\n",
    "    category = url.split('/')[-1]\n",
    "    response = requests.get(url, headers={'user-agent': 'Codeup DS'})\n",
    "    soup = BeautifulSoup(response.text)\n",
    "    cards = soup.select('.news-card')\n",
    "    df = pd.DataFrame([parse_news_card(card) for card in cards])\n",
    "    df['category'] = category\n",
    "    return df\n",
    "\n",
    "def get_inshorts_articles():\n",
    "    '''\n",
    "    Returns a dataframe of news articles from the business, sports, technology, and entertainment sections of\n",
    "    inshorts.\n",
    "    '''\n",
    "    url = 'https://inshorts.com/en/read/{}'\n",
    "    categories = ['business', 'sports', 'technology', 'entertainment']\n",
    "    df = pd.concat([parse_inshorts_page(url.format(cat)) for cat in categories])\n",
    "    df = df.reset_index(drop=True)\n",
    "    return df"
   ]
  },
  {
   "cell_type": "code",
   "execution_count": 84,
   "id": "1883d52d",
   "metadata": {},
   "outputs": [],
   "source": [
    "today = strftime('%Y-%m-%d')\n",
    "get_inshorts_articles().to_json(f'inshorts-{today}.json')"
   ]
  },
  {
   "cell_type": "code",
   "execution_count": 86,
   "id": "6b7c7b31",
   "metadata": {},
   "outputs": [],
   "source": [
    "df = pd.read_json('inshorts-2022-02-07.json')\n"
   ]
  },
  {
   "cell_type": "code",
   "execution_count": 88,
   "id": "3f77c365",
   "metadata": {},
   "outputs": [
    {
     "data": {
      "text/html": [
       "<div>\n",
       "<style scoped>\n",
       "    .dataframe tbody tr th:only-of-type {\n",
       "        vertical-align: middle;\n",
       "    }\n",
       "\n",
       "    .dataframe tbody tr th {\n",
       "        vertical-align: top;\n",
       "    }\n",
       "\n",
       "    .dataframe thead th {\n",
       "        text-align: right;\n",
       "    }\n",
       "</style>\n",
       "<table border=\"1\" class=\"dataframe\">\n",
       "  <thead>\n",
       "    <tr style=\"text-align: right;\">\n",
       "      <th></th>\n",
       "      <th>title</th>\n",
       "      <th>published</th>\n",
       "      <th>author</th>\n",
       "      <th>content</th>\n",
       "      <th>category</th>\n",
       "    </tr>\n",
       "  </thead>\n",
       "  <tbody>\n",
       "    <tr>\n",
       "      <th>0</th>\n",
       "      <td>Start demolition of Supertech's 40-storey twin...</td>\n",
       "      <td>2022-02-07T11:05:31.000Z</td>\n",
       "      <td>Ridham Gambhir</td>\n",
       "      <td>The Supreme Court on Monday ordered that the d...</td>\n",
       "      <td>business</td>\n",
       "    </tr>\n",
       "    <tr>\n",
       "      <th>1</th>\n",
       "      <td>The focus is on growth and adoption for Digita...</td>\n",
       "      <td>2022-02-07T06:10:25.000Z</td>\n",
       "      <td>Roshan Gupta</td>\n",
       "      <td>Union Budget 2022 is focused on promoting digi...</td>\n",
       "      <td>business</td>\n",
       "    </tr>\n",
       "    <tr>\n",
       "      <th>2</th>\n",
       "      <td>COVID, you did your worst &amp; stole our voice: M...</td>\n",
       "      <td>2022-02-06T15:37:00.000Z</td>\n",
       "      <td>Sakshita Khosla</td>\n",
       "      <td>Businessman Anand Mahindra on Sunday shared a ...</td>\n",
       "      <td>business</td>\n",
       "    </tr>\n",
       "    <tr>\n",
       "      <th>3</th>\n",
       "      <td>Meta says data regulations may cause Facebook,...</td>\n",
       "      <td>2022-02-07T09:20:26.000Z</td>\n",
       "      <td>Pragya Swastik</td>\n",
       "      <td>Meta in its annual report to the US SEC said i...</td>\n",
       "      <td>business</td>\n",
       "    </tr>\n",
       "    <tr>\n",
       "      <th>4</th>\n",
       "      <td>Wishy-washy words not needed, say sorry: Shiv ...</td>\n",
       "      <td>2022-02-07T11:20:42.000Z</td>\n",
       "      <td>Pragya Swastik</td>\n",
       "      <td>Shiv Sena's MP Priyanka Chaturvedi tweeted to ...</td>\n",
       "      <td>business</td>\n",
       "    </tr>\n",
       "  </tbody>\n",
       "</table>\n",
       "</div>"
      ],
      "text/plain": [
       "                                               title  \\\n",
       "0  Start demolition of Supertech's 40-storey twin...   \n",
       "1  The focus is on growth and adoption for Digita...   \n",
       "2  COVID, you did your worst & stole our voice: M...   \n",
       "3  Meta says data regulations may cause Facebook,...   \n",
       "4  Wishy-washy words not needed, say sorry: Shiv ...   \n",
       "\n",
       "                  published           author  \\\n",
       "0  2022-02-07T11:05:31.000Z   Ridham Gambhir   \n",
       "1  2022-02-07T06:10:25.000Z     Roshan Gupta   \n",
       "2  2022-02-06T15:37:00.000Z  Sakshita Khosla   \n",
       "3  2022-02-07T09:20:26.000Z   Pragya Swastik   \n",
       "4  2022-02-07T11:20:42.000Z   Pragya Swastik   \n",
       "\n",
       "                                             content  category  \n",
       "0  The Supreme Court on Monday ordered that the d...  business  \n",
       "1  Union Budget 2022 is focused on promoting digi...  business  \n",
       "2  Businessman Anand Mahindra on Sunday shared a ...  business  \n",
       "3  Meta in its annual report to the US SEC said i...  business  \n",
       "4  Shiv Sena's MP Priyanka Chaturvedi tweeted to ...  business  "
      ]
     },
     "execution_count": 88,
     "metadata": {},
     "output_type": "execute_result"
    }
   ],
   "source": [
    "df.head()"
   ]
  },
  {
   "cell_type": "markdown",
   "id": "f43d8739",
   "metadata": {},
   "source": [
    "#### 3. Bonus: cache the data\n",
    "\n",
    "Write your code such that the acquired data is saved locally in some form or fashion. Your functions that retrieve the data should prefer to read the local data instead of having to make all the requests everytime the function is called. Include a boolean flag in the functions to allow the data to be acquired \"fresh\" from the actual sources (re-writing your local cache).\n",
    "\n"
   ]
  },
  {
   "cell_type": "code",
   "execution_count": null,
   "id": "fee6f4fd",
   "metadata": {},
   "outputs": [],
   "source": []
  }
 ],
 "metadata": {
  "kernelspec": {
   "display_name": "Python 3",
   "language": "python",
   "name": "python3"
  },
  "language_info": {
   "codemirror_mode": {
    "name": "ipython",
    "version": 3
   },
   "file_extension": ".py",
   "mimetype": "text/x-python",
   "name": "python",
   "nbconvert_exporter": "python",
   "pygments_lexer": "ipython3",
   "version": "3.8.8"
  }
 },
 "nbformat": 4,
 "nbformat_minor": 5
}
