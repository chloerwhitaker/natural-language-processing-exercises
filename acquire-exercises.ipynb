{
 "cells": [
  {
   "cell_type": "markdown",
   "id": "51c0a410",
   "metadata": {},
   "source": [
    "# Acquire Data through Web Scraping Exercises\n"
   ]
  },
  {
   "cell_type": "markdown",
   "id": "43fb0582",
   "metadata": {},
   "source": [
    "By the end of this exercise, you should have a file named acquire.py that contains the specified functions. If you wish, you may break your work into separate files for each website (e.g. acquire_codeup_blog.py and acquire_news_articles.py), but the end function should be present in acquire.py (that is, acquire.py should import get_blog_articles from the acquire_codeup_blog module.)\n",
    "\n"
   ]
  },
  {
   "cell_type": "markdown",
   "id": "f42e4e5a",
   "metadata": {},
   "source": [
    "### imports"
   ]
  },
  {
   "cell_type": "code",
   "execution_count": 1,
   "id": "7627870b",
   "metadata": {},
   "outputs": [],
   "source": [
    "import requests\n",
    "from bs4 import BeautifulSoup\n",
    "import pandas as pd"
   ]
  },
  {
   "cell_type": "markdown",
   "id": "c5fe02d1",
   "metadata": {},
   "source": [
    "#### 1. Codeup Blog Articles\n",
    "\n",
    "Visit Codeup's Blog and record the urls for at least 5 distinct blog posts. For each post, you should scrape at least the post's title and content.\n",
    "\n",
    "Encapsulate your work in a function named get_blog_articles that will return a list of dictionaries, with each dictionary representing one article. The shape of each dictionary should look like this:"
   ]
  },
  {
   "cell_type": "code",
   "execution_count": 2,
   "id": "e0ec9470",
   "metadata": {},
   "outputs": [],
   "source": [
    "# {\n",
    "#     'title': 'the title of the article',\n",
    "#     'content': 'the full text content of the article'\n",
    "# # "
   ]
  },
  {
   "cell_type": "markdown",
   "id": "b48f9cbf",
   "metadata": {},
   "source": [
    "Plus any additional properties you think might be helpful.\n",
    "\n",
    "Bonus: Scrape the text of all the articles linked on codeup's blog page."
   ]
  },
  {
   "cell_type": "code",
   "execution_count": 3,
   "id": "5fdbb78b",
   "metadata": {},
   "outputs": [],
   "source": [
    "# https://codeup.com/blog/"
   ]
  },
  {
   "cell_type": "markdown",
   "id": "6f5baf2f",
   "metadata": {},
   "source": [
    "Articles to scrape: \n",
    "\n",
    "https://codeup.com/codeup-news/codeup-start-dates-for-march-2022/\n",
    "https://codeup.com/codeup-news/vet-tec-funding-dallas/\n",
    "https://codeup.com/codeup-news/dallas-campus-re-opens-with-new-grant-partner/\n",
    "https://codeup.com/dallas-newsletter/codeup-dallas-open-house/\n",
    "https://codeup.com/codeup-news/codeups-placement-team-continues-setting-records/\n"
   ]
  },
  {
   "cell_type": "code",
   "execution_count": 4,
   "id": "552080c0",
   "metadata": {},
   "outputs": [],
   "source": [
    "# response = requests.get('https://codeup.com/blog/', headers={'user-agent': 'Codeup DS Hopper'})\n",
    "# soup = BeautifulSoup(response.text)"
   ]
  },
  {
   "cell_type": "code",
   "execution_count": 17,
   "id": "8c5ce6a8",
   "metadata": {},
   "outputs": [],
   "source": [
    "response = requests.get('https://codeup.com/dallas-newsletter/codeup-dallas-open-house/', headers={'user-agent': 'Codeup DS Hopper'})\n",
    "html = response.text\n",
    "# html"
   ]
  },
  {
   "cell_type": "code",
   "execution_count": 18,
   "id": "72433824",
   "metadata": {},
   "outputs": [],
   "source": [
    "soup = BeautifulSoup(response.text)"
   ]
  },
  {
   "cell_type": "code",
   "execution_count": 19,
   "id": "bf4e9440",
   "metadata": {},
   "outputs": [],
   "source": [
    "# print(soup.prettify())"
   ]
  },
  {
   "cell_type": "code",
   "execution_count": 20,
   "id": "cf1bcbaf",
   "metadata": {},
   "outputs": [],
   "source": [
    "title = soup.select_one(\".entry-title\").text"
   ]
  },
  {
   "cell_type": "code",
   "execution_count": 21,
   "id": "8333b4a6",
   "metadata": {},
   "outputs": [
    {
     "data": {
      "text/plain": [
       "'Codeup Dallas Open House'"
      ]
     },
     "execution_count": 21,
     "metadata": {},
     "output_type": "execute_result"
    }
   ],
   "source": [
    "title"
   ]
  },
  {
   "cell_type": "code",
   "execution_count": 37,
   "id": "91434a49",
   "metadata": {},
   "outputs": [],
   "source": [
    "content = soup.select_one(\".entry-content\").text.strip()"
   ]
  },
  {
   "cell_type": "code",
   "execution_count": 38,
   "id": "f39c1ec7",
   "metadata": {},
   "outputs": [
    {
     "data": {
      "text/plain": [
       "'Come join us for the re-opening of our Dallas Campus with some drinks and snacks at Codeup! Curious about what our campus looks like? Click here to register for free\\nAbout this event\\nCome join us for the re-opening of our Dallas Campus with some drinks and snacks at Codeup!\\nCurious about what our campus looks like? Interested in our Web Development Career Accelerator? Keen to chat with an instructor or financial aid rep?\\nAt our Open House, we are here to answer all your questions!\\nMeet a Codeup instructor, who can help explain what’s taught in our classes and answer questions.\\nUnderstand how to join one of our upcoming cohort ( Dec. 6th).\\nDon’t miss this opportunity to learn more about how you can start the new year transitioning into a new, exciting career in tech. We’re here to answer any questions you may have about Codeup and your future.\\nTake the first step of your new career today and create your tomorrow!'"
      ]
     },
     "execution_count": 38,
     "metadata": {},
     "output_type": "execute_result"
    }
   ],
   "source": [
    "content"
   ]
  },
  {
   "cell_type": "code",
   "execution_count": 52,
   "id": "fb076291",
   "metadata": {},
   "outputs": [],
   "source": [
    "# function to get all links from the main blog page\n",
    "\n",
    "def get_blog_links():\n",
    "    \n",
    "    '''\n",
    "    This function returns a list of all the urls linked on Codeup's main blog page.\n",
    "    '''\n",
    "    \n",
    "    # imports\n",
    "    import requests\n",
    "    from bs4 import BeautifulSoup\n",
    "    \n",
    "    response = requests.get(\"https://codeup.com/blog/\", headers={\"user-agent\": \"Codeup DS Hopper\"})\n",
    "    soup = BeautifulSoup(response.text)\n",
    "    links = [link.attrs[\"href\"] for link in soup.select(\".more-link\")]\n",
    "    return links\n"
   ]
  },
  {
   "cell_type": "code",
   "execution_count": 53,
   "id": "82f1534e",
   "metadata": {},
   "outputs": [
    {
     "data": {
      "text/plain": [
       "['https://codeup.com/dallas-newsletter/codeup-dallas-open-house/',\n",
       " 'https://codeup.com/codeup-news/codeups-placement-team-continues-setting-records/',\n",
       " 'https://codeup.com/it-training/it-certifications-101/',\n",
       " 'https://codeup.com/cybersecurity/a-rise-in-cyber-attacks-means-opportunities-for-veterans-in-san-antonio/',\n",
       " 'https://codeup.com/codeup-news/use-your-gi-bill-benefits-to-land-a-job-in-tech/',\n",
       " 'https://codeup.com/tips-for-prospective-students/which-program-is-right-for-me-cyber-security-or-systems-engineering/',\n",
       " 'https://codeup.com/it-training/what-the-heck-is-system-engineering/',\n",
       " 'https://codeup.com/alumni-stories/from-speech-pathology-to-business-intelligence/',\n",
       " 'https://codeup.com/behind-the-billboards/boris-behind-the-billboards/',\n",
       " 'https://codeup.com/codeup-news/is-codeup-the-best-bootcamp-in-san-antonio-or-the-world/',\n",
       " 'https://codeup.com/codeup-news/codeup-launches-first-podcast-hire-tech/',\n",
       " 'https://codeup.com/tips-for-prospective-students/why-should-i-become-a-system-administrator/',\n",
       " 'https://codeup.com/codeup-news/codeup-candidate-for-accreditation/',\n",
       " 'https://codeup.com/codeup-news/codeup-takes-over-more-of-the-historic-vogue-building/',\n",
       " 'https://codeup.com/codeup-news/inclusion-at-codeup-during-pride-month-and-always/']"
      ]
     },
     "execution_count": 53,
     "metadata": {},
     "output_type": "execute_result"
    }
   ],
   "source": [
    "# use function to get list of links\n",
    "get_blog_links()"
   ]
  },
  {
   "cell_type": "code",
   "execution_count": 49,
   "id": "aa248cfd",
   "metadata": {},
   "outputs": [],
   "source": [
    "def parse_codeup_blog_article(url):\n",
    "    \n",
    "    '''\n",
    "    This function: \n",
    "    takes url of blog post,\n",
    "    extracts info\n",
    "    returns the specified info as a dictionary\n",
    "    '''\n",
    "    \n",
    "    # imports\n",
    "    import requests\n",
    "    from bs4 import BeautifulSoup\n",
    "    \n",
    "    response = requests.get(url, headers={\"user-agent\": \"Codeup DS Hopper\"})\n",
    "    soup = BeautifulSoup(response.text)\n",
    "    return {\n",
    "        \"title\": soup.select_one(\".entry-title\").text,\n",
    "        \"published\": soup.select_one(\".published\").text,\n",
    "        \"content\": soup.select_one(\".entry-content\").text.strip(),\n",
    "    }\n",
    "\n"
   ]
  },
  {
   "cell_type": "code",
   "execution_count": 50,
   "id": "657ae89f",
   "metadata": {},
   "outputs": [],
   "source": [
    "url = 'https://codeup.com/dallas-newsletter/codeup-dallas-open-house/'"
   ]
  },
  {
   "cell_type": "code",
   "execution_count": 51,
   "id": "2d99e4e6",
   "metadata": {},
   "outputs": [
    {
     "data": {
      "text/plain": [
       "{'title': 'Codeup Dallas Open House',\n",
       " 'published': 'Nov 30, 2021',\n",
       " 'content': 'Come join us for the re-opening of our Dallas Campus with some drinks and snacks at Codeup! Curious about what our campus looks like? Click here to register for free\\nAbout this event\\nCome join us for the re-opening of our Dallas Campus with some drinks and snacks at Codeup!\\nCurious about what our campus looks like? Interested in our Web Development Career Accelerator? Keen to chat with an instructor or financial aid rep?\\nAt our Open House, we are here to answer all your questions!\\nMeet a Codeup instructor, who can help explain what’s taught in our classes and answer questions.\\nUnderstand how to join one of our upcoming cohort ( Dec. 6th).\\nDon’t miss this opportunity to learn more about how you can start the new year transitioning into a new, exciting career in tech. We’re here to answer any questions you may have about Codeup and your future.\\nTake the first step of your new career today and create your tomorrow!'}"
      ]
     },
     "execution_count": 51,
     "metadata": {},
     "output_type": "execute_result"
    }
   ],
   "source": [
    "parse_codeup_blog_article(url)"
   ]
  },
  {
   "cell_type": "code",
   "execution_count": 60,
   "id": "e11cee6e",
   "metadata": {},
   "outputs": [],
   "source": [
    "# return blog article info as a df\n",
    "def get_blog_articles_info():\n",
    "    \n",
    "    '''\n",
    "    This function: \n",
    "    uses get_blog_links to get blog post links from the main Codeup blog page,\n",
    "    extracts info using parse_codeup_blog_article,\n",
    "    returns the specified info as a df where each row contains a seperate blog title\n",
    "    '''\n",
    "    \n",
    "    # imports\n",
    "    import requests\n",
    "    from bs4 import BeautifulSoup\n",
    "    \n",
    "    links = get_blog_links()\n",
    "    df = pd.DataFrame([parse_codeup_blog_article(link) for link in links])\n",
    "    return df"
   ]
  },
  {
   "cell_type": "code",
   "execution_count": 59,
   "id": "e5f260fc",
   "metadata": {},
   "outputs": [
    {
     "data": {
      "text/html": [
       "<div>\n",
       "<style scoped>\n",
       "    .dataframe tbody tr th:only-of-type {\n",
       "        vertical-align: middle;\n",
       "    }\n",
       "\n",
       "    .dataframe tbody tr th {\n",
       "        vertical-align: top;\n",
       "    }\n",
       "\n",
       "    .dataframe thead th {\n",
       "        text-align: right;\n",
       "    }\n",
       "</style>\n",
       "<table border=\"1\" class=\"dataframe\">\n",
       "  <thead>\n",
       "    <tr style=\"text-align: right;\">\n",
       "      <th></th>\n",
       "      <th>title</th>\n",
       "      <th>published</th>\n",
       "      <th>content</th>\n",
       "    </tr>\n",
       "  </thead>\n",
       "  <tbody>\n",
       "    <tr>\n",
       "      <th>0</th>\n",
       "      <td>Codeup Dallas Open House</td>\n",
       "      <td>Nov 30, 2021</td>\n",
       "      <td>Come join us for the re-opening of our Dallas ...</td>\n",
       "    </tr>\n",
       "    <tr>\n",
       "      <th>1</th>\n",
       "      <td>Codeup’s Placement Team Continues Setting Records</td>\n",
       "      <td>Nov 19, 2021</td>\n",
       "      <td>Our Placement Team is simply defined as a grou...</td>\n",
       "    </tr>\n",
       "    <tr>\n",
       "      <th>2</th>\n",
       "      <td>IT Certifications 101: Why They Matter, and Wh...</td>\n",
       "      <td>Nov 18, 2021</td>\n",
       "      <td>AWS, Google, Azure, Red Hat, CompTIA…these are...</td>\n",
       "    </tr>\n",
       "    <tr>\n",
       "      <th>3</th>\n",
       "      <td>A rise in cyber attacks means opportunities fo...</td>\n",
       "      <td>Nov 17, 2021</td>\n",
       "      <td>In the last few months, the US has experienced...</td>\n",
       "    </tr>\n",
       "    <tr>\n",
       "      <th>4</th>\n",
       "      <td>Use your GI Bill® benefits to Land a Job in Tech</td>\n",
       "      <td>Nov 4, 2021</td>\n",
       "      <td>As the end of military service gets closer, ma...</td>\n",
       "    </tr>\n",
       "    <tr>\n",
       "      <th>5</th>\n",
       "      <td>Which program is right for me: Cyber Security ...</td>\n",
       "      <td>Oct 28, 2021</td>\n",
       "      <td>What IT Career should I choose?\\nIf you’re thi...</td>\n",
       "    </tr>\n",
       "    <tr>\n",
       "      <th>6</th>\n",
       "      <td>What the Heck is System Engineering?</td>\n",
       "      <td>Oct 21, 2021</td>\n",
       "      <td>Codeup offers a 13-week training program: Syst...</td>\n",
       "    </tr>\n",
       "    <tr>\n",
       "      <th>7</th>\n",
       "      <td>From Speech Pathology to Business Intelligence</td>\n",
       "      <td>Oct 18, 2021</td>\n",
       "      <td>By: Alicia Gonzalez\\nBefore Codeup, I was a ho...</td>\n",
       "    </tr>\n",
       "    <tr>\n",
       "      <th>8</th>\n",
       "      <td>Boris – Behind the Billboards</td>\n",
       "      <td>Oct 3, 2021</td>\n",
       "      <td></td>\n",
       "    </tr>\n",
       "    <tr>\n",
       "      <th>9</th>\n",
       "      <td>Is Codeup the Best Bootcamp in San Antonio…or ...</td>\n",
       "      <td>Sep 16, 2021</td>\n",
       "      <td>Looking for the best data science bootcamp in ...</td>\n",
       "    </tr>\n",
       "    <tr>\n",
       "      <th>10</th>\n",
       "      <td>Codeup Launches First Podcast: Hire Tech</td>\n",
       "      <td>Aug 25, 2021</td>\n",
       "      <td>Any podcast enthusiasts out there? We are plea...</td>\n",
       "    </tr>\n",
       "    <tr>\n",
       "      <th>11</th>\n",
       "      <td>Why Should I Become a System Administrator?</td>\n",
       "      <td>Aug 23, 2021</td>\n",
       "      <td>With so many tech careers in demand, why choos...</td>\n",
       "    </tr>\n",
       "    <tr>\n",
       "      <th>12</th>\n",
       "      <td>Announcing our Candidacy for Accreditation!</td>\n",
       "      <td>Jun 30, 2021</td>\n",
       "      <td>Did you know that even though we’re an indepen...</td>\n",
       "    </tr>\n",
       "    <tr>\n",
       "      <th>13</th>\n",
       "      <td>Codeup Takes Over More of the Historic Vogue B...</td>\n",
       "      <td>Jun 21, 2021</td>\n",
       "      <td>Codeup is moving into another floor of our His...</td>\n",
       "    </tr>\n",
       "    <tr>\n",
       "      <th>14</th>\n",
       "      <td>Inclusion at Codeup During Pride Month (and Al...</td>\n",
       "      <td>Jun 4, 2021</td>\n",
       "      <td>Happy Pride Month! Pride Month is a dedicated ...</td>\n",
       "    </tr>\n",
       "  </tbody>\n",
       "</table>\n",
       "</div>"
      ],
      "text/plain": [
       "                                                title     published  \\\n",
       "0                            Codeup Dallas Open House  Nov 30, 2021   \n",
       "1   Codeup’s Placement Team Continues Setting Records  Nov 19, 2021   \n",
       "2   IT Certifications 101: Why They Matter, and Wh...  Nov 18, 2021   \n",
       "3   A rise in cyber attacks means opportunities fo...  Nov 17, 2021   \n",
       "4    Use your GI Bill® benefits to Land a Job in Tech   Nov 4, 2021   \n",
       "5   Which program is right for me: Cyber Security ...  Oct 28, 2021   \n",
       "6                What the Heck is System Engineering?  Oct 21, 2021   \n",
       "7      From Speech Pathology to Business Intelligence  Oct 18, 2021   \n",
       "8                       Boris – Behind the Billboards   Oct 3, 2021   \n",
       "9   Is Codeup the Best Bootcamp in San Antonio…or ...  Sep 16, 2021   \n",
       "10           Codeup Launches First Podcast: Hire Tech  Aug 25, 2021   \n",
       "11        Why Should I Become a System Administrator?  Aug 23, 2021   \n",
       "12        Announcing our Candidacy for Accreditation!  Jun 30, 2021   \n",
       "13  Codeup Takes Over More of the Historic Vogue B...  Jun 21, 2021   \n",
       "14  Inclusion at Codeup During Pride Month (and Al...   Jun 4, 2021   \n",
       "\n",
       "                                              content  \n",
       "0   Come join us for the re-opening of our Dallas ...  \n",
       "1   Our Placement Team is simply defined as a grou...  \n",
       "2   AWS, Google, Azure, Red Hat, CompTIA…these are...  \n",
       "3   In the last few months, the US has experienced...  \n",
       "4   As the end of military service gets closer, ma...  \n",
       "5   What IT Career should I choose?\\nIf you’re thi...  \n",
       "6   Codeup offers a 13-week training program: Syst...  \n",
       "7   By: Alicia Gonzalez\\nBefore Codeup, I was a ho...  \n",
       "8                                                      \n",
       "9   Looking for the best data science bootcamp in ...  \n",
       "10  Any podcast enthusiasts out there? We are plea...  \n",
       "11  With so many tech careers in demand, why choos...  \n",
       "12  Did you know that even though we’re an indepen...  \n",
       "13  Codeup is moving into another floor of our His...  \n",
       "14  Happy Pride Month! Pride Month is a dedicated ...  "
      ]
     },
     "execution_count": 59,
     "metadata": {},
     "output_type": "execute_result"
    }
   ],
   "source": [
    "get_blog_articles_info()"
   ]
  },
  {
   "cell_type": "markdown",
   "id": "2c50e371",
   "metadata": {},
   "source": [
    "#### 2. News Articles\n",
    "\n",
    "We will now be scraping text data from inshorts, a website that provides a brief overview of many different topics.\n",
    "\n",
    "Write a function that scrapes the news articles for the following topics:\n",
    "\n",
    "- Business\n",
    "- Sports\n",
    "- Technology\n",
    "- Entertainment\n",
    "\n",
    "The end product of this should be a function named get_news_articles that returns a list of dictionaries, where each dictionary has this shape:"
   ]
  },
  {
   "cell_type": "code",
   "execution_count": 3,
   "id": "a5edc192",
   "metadata": {},
   "outputs": [],
   "source": [
    "# {\n",
    "#     'title': 'The article title',\n",
    "#     'content': 'The article content',\n",
    "#     'category': 'business' # for example\n",
    "# }"
   ]
  },
  {
   "cell_type": "markdown",
   "id": "b02fe185",
   "metadata": {},
   "source": [
    "Hints:\n",
    "\n",
    "a. Start by inspecting the website in your browser. Figure out which elements will be useful.\n",
    "\n",
    "b. Start by creating a function that handles a single article and produces a dictionary like the one above.\n",
    "\n",
    "c. Next create a function that will find all the articles on a single page and call the function you created in the last step for every article on the page.\n",
    "\n",
    "d. Now create a function that will use the previous two functions to scrape the articles from all the pages that you need, and do any additional processing that needs to be done."
   ]
  },
  {
   "cell_type": "markdown",
   "id": "a64811c3",
   "metadata": {},
   "source": [
    "#### 3. Bonus: cache the data\n",
    "\n",
    "Write your code such that the acquired data is saved locally in some form or fashion. Your functions that retrieve the data should prefer to read the local data instead of having to make all the requests everytime the function is called. Include a boolean flag in the functions to allow the data to be acquired \"fresh\" from the actual sources (re-writing your local cache).\n",
    "\n"
   ]
  },
  {
   "cell_type": "code",
   "execution_count": null,
   "id": "02f8cfba",
   "metadata": {},
   "outputs": [],
   "source": []
  }
 ],
 "metadata": {
  "kernelspec": {
   "display_name": "Python 3",
   "language": "python",
   "name": "python3"
  },
  "language_info": {
   "codemirror_mode": {
    "name": "ipython",
    "version": 3
   },
   "file_extension": ".py",
   "mimetype": "text/x-python",
   "name": "python",
   "nbconvert_exporter": "python",
   "pygments_lexer": "ipython3",
   "version": "3.8.8"
  }
 },
 "nbformat": 4,
 "nbformat_minor": 5
}
