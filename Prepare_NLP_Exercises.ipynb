{
 "cells": [
  {
   "cell_type": "markdown",
   "id": "7cf52ad1",
   "metadata": {},
   "source": [
    "# NLP Preparation Exercises"
   ]
  },
  {
   "cell_type": "markdown",
   "id": "33ef0e4d",
   "metadata": {},
   "source": [
    "The end result of this exercise should be a file named `prepare.py` that defines the requested functions.\n",
    "\n",
    "In this exercise we will be defining some functions to prepare textual data. These functions should apply equally well to both the codeup blog articles and the news articles that were previously acquired."
   ]
  },
  {
   "cell_type": "markdown",
   "id": "e150c0b0",
   "metadata": {},
   "source": [
    "### Imports"
   ]
  },
  {
   "cell_type": "code",
   "execution_count": 7,
   "id": "b4b1c1d6",
   "metadata": {},
   "outputs": [],
   "source": [
    "import unicodedata\n",
    "import re\n",
    "import json\n",
    "\n",
    "import nltk\n",
    "from nltk.tokenize.toktok import ToktokTokenizer\n",
    "from nltk.corpus import stopwords\n",
    "\n",
    "import pandas as pd\n",
    "import acquire\n",
    "from time import strftime\n",
    "\n",
    "import warnings\n",
    "warnings.filterwarnings('ignore')\n",
    "\n",
    "import acquire"
   ]
  },
  {
   "cell_type": "markdown",
   "id": "f0c6aa50",
   "metadata": {},
   "source": [
    "### Acquire inshorts Data"
   ]
  },
  {
   "cell_type": "code",
   "execution_count": 9,
   "id": "5bda1b7e",
   "metadata": {},
   "outputs": [
    {
     "name": "stdout",
     "output_type": "stream",
     "text": [
      "                                                title     published  \\\n",
      "0                            Codeup Dallas Open House  Nov 30, 2021   \n",
      "1   Codeup’s Placement Team Continues Setting Records  Nov 19, 2021   \n",
      "2   IT Certifications 101: Why They Matter, and Wh...  Nov 18, 2021   \n",
      "3   A rise in cyber attacks means opportunities fo...  Nov 17, 2021   \n",
      "4    Use your GI Bill® benefits to Land a Job in Tech   Nov 4, 2021   \n",
      "5   Which program is right for me: Cyber Security ...  Oct 28, 2021   \n",
      "6                What the Heck is System Engineering?  Oct 21, 2021   \n",
      "7      From Speech Pathology to Business Intelligence  Oct 18, 2021   \n",
      "8                       Boris – Behind the Billboards   Oct 3, 2021   \n",
      "9   Is Codeup the Best Bootcamp in San Antonio…or ...  Sep 16, 2021   \n",
      "10           Codeup Launches First Podcast: Hire Tech  Aug 25, 2021   \n",
      "11        Why Should I Become a System Administrator?  Aug 23, 2021   \n",
      "12        Announcing our Candidacy for Accreditation!  Jun 30, 2021   \n",
      "13  Codeup Takes Over More of the Historic Vogue B...  Jun 21, 2021   \n",
      "14  Inclusion at Codeup During Pride Month (and Al...   Jun 4, 2021   \n",
      "\n",
      "                                              content  \n",
      "0   Come join us for the re-opening of our Dallas ...  \n",
      "1   Our Placement Team is simply defined as a grou...  \n",
      "2   AWS, Google, Azure, Red Hat, CompTIA…these are...  \n",
      "3   In the last few months, the US has experienced...  \n",
      "4   As the end of military service gets closer, ma...  \n",
      "5   What IT Career should I choose?\\nIf you’re thi...  \n",
      "6   Codeup offers a 13-week training program: Syst...  \n",
      "7   By: Alicia Gonzalez\\nBefore Codeup, I was a ho...  \n",
      "8                                                      \n",
      "9   Looking for the best data science bootcamp in ...  \n",
      "10  Any podcast enthusiasts out there? We are plea...  \n",
      "11  With so many tech careers in demand, why choos...  \n",
      "12  Did you know that even though we’re an indepen...  \n",
      "13  Codeup is moving into another floor of our His...  \n",
      "14  Happy Pride Month! Pride Month is a dedicated ...  \n"
     ]
    }
   ],
   "source": [
    "original = acquire.get_blog_articles_info()\n",
    "print(original)\n"
   ]
  },
  {
   "cell_type": "markdown",
   "id": "37c8f7cb",
   "metadata": {},
   "source": [
    "### Exercises"
   ]
  },
  {
   "cell_type": "markdown",
   "id": "a4c9aadd",
   "metadata": {},
   "source": [
    "1. Define a function named basic_clean. It should take in a string and apply some basic text cleaning to it:\n",
    "\n",
    "- Lowercase everything\n",
    "- Normalize unicode characters\n",
    "- Replace anything that is not a letter, number, whitespace or a single quote."
   ]
  },
  {
   "cell_type": "code",
   "execution_count": 10,
   "id": "74a1ff30",
   "metadata": {},
   "outputs": [],
   "source": [
    "def basic_clean(string):\n",
    "    '''\n",
    "    This function takes in a string and\n",
    "    returns the string normalized.\n",
    "    '''\n",
    "    string = unicodedata.normalize('NFKD', string)\\\n",
    "             .encode('ascii', 'ignore')\\\n",
    "             .decode('utf-8', 'ignore')\n",
    "    string = re.sub(r'[^\\w\\s]', '', string).lower()\n",
    "    return string"
   ]
  },
  {
   "cell_type": "code",
   "execution_count": 11,
   "id": "dfebb817",
   "metadata": {},
   "outputs": [
    {
     "data": {
      "text/plain": [
       "'0     come join us for the reopening of our dallas \\n1     our placement team is simply defined as a grou\\n2     aws google azure red hat comptiathese are\\n3     in the last few months the us has experienced\\n4     as the end of military service gets closer ma\\n5     what it career should i choosenif youre thi\\n6     codeup offers a 13week training program syst\\n7     by alicia gonzaleznbefore codeup i was a ho\\n8                                                      \\n9     looking for the best data science bootcamp in \\n10    any podcast enthusiasts out there we are plea\\n11    with so many tech careers in demand why choos\\n12    did you know that even though were an indepen\\n13    codeup is moving into another floor of our his\\n14    happy pride month pride month is a dedicated \\nname content dtype object'"
      ]
     },
     "execution_count": 11,
     "metadata": {},
     "output_type": "execute_result"
    }
   ],
   "source": [
    "basic_clean(str(original.content))"
   ]
  },
  {
   "cell_type": "markdown",
   "id": "40b24bbb",
   "metadata": {},
   "source": [
    "2. Define a function named `tokenize`. It should take in a string and tokenize all the words in the string."
   ]
  },
  {
   "cell_type": "code",
   "execution_count": 12,
   "id": "70d6f2be",
   "metadata": {},
   "outputs": [],
   "source": [
    "def tokenize(string):\n",
    "    '''\n",
    "    This function takes in a string and\n",
    "    returns a tokenized string.\n",
    "    '''\n",
    "    # Create tokenizer.\n",
    "    tokenizer = nltk.tokenize.ToktokTokenizer()\n",
    "    \n",
    "    # Use tokenizer\n",
    "    string = tokenizer.tokenize(string, return_str = True)\n",
    "    \n",
    "    return string"
   ]
  },
  {
   "cell_type": "code",
   "execution_count": 13,
   "id": "67f0d33b",
   "metadata": {},
   "outputs": [
    {
     "data": {
      "text/plain": [
       "'0 Come join us for the re-opening of our Dallas ... \\n1 Our Placement Team is simply defined as a grou ... \\n2 AWS , Google , Azure , Red Hat , CompTIA … these are ... \\n3 In the last few months , the US has experienced ... \\n4 As the end of military service gets closer , ma ... \\n5 What IT Career should I choose?\\\\nIf you ’ re thi ... \\n6 Codeup offers a 13-week training program : Syst ... \\n7 By : Alicia Gonzalez\\\\nBefore Codeup , I was a ho ... \\n8 \\n9 Looking for the best data science bootcamp in ... \\n10 Any podcast enthusiasts out there ? We are plea ... \\n11 With so many tech careers in demand , why choos ... \\n12 Did you know that even though we ’ re an indepen ... \\n13 Codeup is moving into another floor of our His ... \\n14 Happy Pride Month ! Pride Month is a dedicated ... \\nName : content , dtype : object'"
      ]
     },
     "execution_count": 13,
     "metadata": {},
     "output_type": "execute_result"
    }
   ],
   "source": [
    "tokenize(str(original.content))"
   ]
  },
  {
   "cell_type": "markdown",
   "id": "63a942ab",
   "metadata": {},
   "source": [
    "3. Define a function named `stem`. It should accept some text and return the text after applying stemming to all the words."
   ]
  },
  {
   "cell_type": "code",
   "execution_count": 14,
   "id": "59ffb6f3",
   "metadata": {},
   "outputs": [],
   "source": [
    "def stem(string):\n",
    "    '''\n",
    "    This function takes in a string and\n",
    "    returns a string with words stemmed.\n",
    "    '''\n",
    "    # Create porter stemmer.\n",
    "    ps = nltk.porter.PorterStemmer()\n",
    "    \n",
    "    # Use the stemmer to stem each word in the list of words we created by using split.\n",
    "    stems = [ps.stem(word) for word in string.split()]\n",
    "    \n",
    "    # Join our lists of words into a string again and assign to a variable.\n",
    "    string = ' '.join(stems)\n",
    "    \n",
    "    return string"
   ]
  },
  {
   "cell_type": "code",
   "execution_count": 15,
   "id": "de3fcd0d",
   "metadata": {},
   "outputs": [
    {
     "data": {
      "text/plain": [
       "'0 come join us for the re-open of our dalla ... 1 our placement team is simpli defin as a grou... 2 aws, google, azure, red hat, comptia…thes are... 3 in the last few months, the us ha experienced... 4 as the end of militari servic get closer, ma... 5 what it career should i choose?\\\\nif you’r thi... 6 codeup offer a 13-week train program: syst... 7 by: alicia gonzalez\\\\nbefor codeup, i wa a ho... 8 9 look for the best data scienc bootcamp in ... 10 ani podcast enthusiast out there? we are plea... 11 with so mani tech career in demand, whi choos... 12 did you know that even though we’r an indepen... 13 codeup is move into anoth floor of our his... 14 happi pride month! pride month is a dedic ... name: content, dtype: object'"
      ]
     },
     "execution_count": 15,
     "metadata": {},
     "output_type": "execute_result"
    }
   ],
   "source": [
    "stem(str(original.content))"
   ]
  },
  {
   "cell_type": "markdown",
   "id": "0ae9751e",
   "metadata": {},
   "source": [
    "4. Define a function named `lemmatize`. It should accept some text and return the text after applying lemmatization to each word."
   ]
  },
  {
   "cell_type": "code",
   "execution_count": 16,
   "id": "762d412b",
   "metadata": {},
   "outputs": [],
   "source": [
    "def lemmatize(string):\n",
    "    '''\n",
    "    This function takes in string for and\n",
    "    returns a string with words lemmatized.\n",
    "    '''\n",
    "    # Create the lemmatizer.\n",
    "    wnl = nltk.stem.WordNetLemmatizer()\n",
    "    \n",
    "    # Use the lemmatizer on each word in the list of words we created by using split.\n",
    "    lemmas = [wnl.lemmatize(word) for word in string.split()]\n",
    "    \n",
    "    # Join our list of words into a string again and assign to a variable.\n",
    "    string = ' '.join(lemmas)\n",
    "    \n",
    "    return string"
   ]
  },
  {
   "cell_type": "code",
   "execution_count": 17,
   "id": "d20581a0",
   "metadata": {},
   "outputs": [
    {
     "data": {
      "text/plain": [
       "'0 Come join u for the re-opening of our Dallas ... 1 Our Placement Team is simply defined a a grou... 2 AWS, Google, Azure, Red Hat, CompTIA…these are... 3 In the last few months, the US ha experienced... 4 As the end of military service get closer, ma... 5 What IT Career should I choose?\\\\nIf you’re thi... 6 Codeup offer a 13-week training program: Syst... 7 By: Alicia Gonzalez\\\\nBefore Codeup, I wa a ho... 8 9 Looking for the best data science bootcamp in ... 10 Any podcast enthusiast out there? We are plea... 11 With so many tech career in demand, why choos... 12 Did you know that even though we’re an indepen... 13 Codeup is moving into another floor of our His... 14 Happy Pride Month! Pride Month is a dedicated ... Name: content, dtype: object'"
      ]
     },
     "execution_count": 17,
     "metadata": {},
     "output_type": "execute_result"
    }
   ],
   "source": [
    "lemmatize(str(original.content))"
   ]
  },
  {
   "cell_type": "markdown",
   "id": "16f05a96",
   "metadata": {},
   "source": [
    "5. Define a function named `remove_stopwords`. It should accept some text and return the text after removing all the stopwords.\n",
    "\n",
    "    This function should define two optional parameters, extra_words and exclude_words. These parameters should define any additional stop words to include, and any words that we don't want to remove."
   ]
  },
  {
   "cell_type": "code",
   "execution_count": 18,
   "id": "ba0b40f3",
   "metadata": {},
   "outputs": [],
   "source": [
    "def remove_stopwords(string, extra_words = [], exclude_words = []):\n",
    "    '''\n",
    "    This function takes in a string, optional extra_words and exclude_words parameters\n",
    "    with default empty lists and returns a string.\n",
    "    '''\n",
    "    # Create stopword_list.\n",
    "    stopword_list = stopwords.words('english')\n",
    "    \n",
    "    # Remove 'exclude_words' from stopword_list to keep these in my text.\n",
    "    stopword_list = set(stopword_list) - set(exclude_words)\n",
    "    \n",
    "    # Add in 'extra_words' to stopword_list.\n",
    "    stopword_list = stopword_list.union(set(extra_words))\n",
    "\n",
    "    # Split words in string.\n",
    "    words = string.split()\n",
    "    \n",
    "    # Create a list of words from my string with stopwords removed and assign to variable.\n",
    "    filtered_words = [word for word in words if word not in stopword_list]\n",
    "    \n",
    "    # Join words in the list back into strings and assign to a variable.\n",
    "    string_without_stopwords = ' '.join(filtered_words)\n",
    "    \n",
    "    return string_without_stopwords"
   ]
  },
  {
   "cell_type": "code",
   "execution_count": 20,
   "id": "f2772182",
   "metadata": {},
   "outputs": [
    {
     "data": {
      "text/plain": [
       "'0 Come join us re-opening Dallas ... 1 Our Placement Team simply defined grou... 2 AWS, Google, Azure, Red Hat, CompTIA…these are... 3 In last months, US experienced... 4 As end military service gets closer, ma... 5 What IT Career I choose?\\\\nIf you’re thi... 6 Codeup offers 13-week training program: Syst... 7 By: Alicia Gonzalez\\\\nBefore Codeup, I ho... 8 9 Looking best data science bootcamp ... 10 Any podcast enthusiasts there? We plea... 11 With many tech careers demand, choos... 12 Did know even though we’re indepen... 13 Codeup moving another floor His... 14 Happy Pride Month! Pride Month dedicated ... Name: content, dtype: object'"
      ]
     },
     "execution_count": 20,
     "metadata": {},
     "output_type": "execute_result"
    }
   ],
   "source": [
    "remove_stopwords(str(original.content))"
   ]
  },
  {
   "cell_type": "markdown",
   "id": "7e98aa14",
   "metadata": {},
   "source": [
    "6. Use your data from the acquire to produce a dataframe of the news articles. Name the dataframe `news_df`."
   ]
  },
  {
   "cell_type": "code",
   "execution_count": 29,
   "id": "b164f666",
   "metadata": {},
   "outputs": [],
   "source": [
    "# # use all the functions to see if they work on the content column\n",
    "# original['content'].apply(basic_clean)\\\n",
    "# .apply(tokenize)\\\n",
    "# .apply(lemmatize)\\\n",
    "# .apply(remove_stopwords)"
   ]
  },
  {
   "cell_type": "code",
   "execution_count": 43,
   "id": "5913c7b5",
   "metadata": {},
   "outputs": [],
   "source": [
    "news_df = pd.read_json('inshorts-2022-02-07.json')"
   ]
  },
  {
   "cell_type": "code",
   "execution_count": 44,
   "id": "9d8f1459",
   "metadata": {},
   "outputs": [
    {
     "data": {
      "text/html": [
       "<div>\n",
       "<style scoped>\n",
       "    .dataframe tbody tr th:only-of-type {\n",
       "        vertical-align: middle;\n",
       "    }\n",
       "\n",
       "    .dataframe tbody tr th {\n",
       "        vertical-align: top;\n",
       "    }\n",
       "\n",
       "    .dataframe thead th {\n",
       "        text-align: right;\n",
       "    }\n",
       "</style>\n",
       "<table border=\"1\" class=\"dataframe\">\n",
       "  <thead>\n",
       "    <tr style=\"text-align: right;\">\n",
       "      <th></th>\n",
       "      <th>title</th>\n",
       "      <th>published</th>\n",
       "      <th>author</th>\n",
       "      <th>content</th>\n",
       "      <th>category</th>\n",
       "    </tr>\n",
       "  </thead>\n",
       "  <tbody>\n",
       "    <tr>\n",
       "      <th>0</th>\n",
       "      <td>Start demolition of Supertech's 40-storey twin...</td>\n",
       "      <td>2022-02-07T11:05:31.000Z</td>\n",
       "      <td>Ridham Gambhir</td>\n",
       "      <td>The Supreme Court on Monday ordered that the d...</td>\n",
       "      <td>business</td>\n",
       "    </tr>\n",
       "    <tr>\n",
       "      <th>1</th>\n",
       "      <td>The focus is on growth and adoption for Digita...</td>\n",
       "      <td>2022-02-07T06:10:25.000Z</td>\n",
       "      <td>Roshan Gupta</td>\n",
       "      <td>Union Budget 2022 is focused on promoting digi...</td>\n",
       "      <td>business</td>\n",
       "    </tr>\n",
       "    <tr>\n",
       "      <th>2</th>\n",
       "      <td>COVID, you did your worst &amp; stole our voice: M...</td>\n",
       "      <td>2022-02-06T15:37:00.000Z</td>\n",
       "      <td>Sakshita Khosla</td>\n",
       "      <td>Businessman Anand Mahindra on Sunday shared a ...</td>\n",
       "      <td>business</td>\n",
       "    </tr>\n",
       "    <tr>\n",
       "      <th>3</th>\n",
       "      <td>Meta says data regulations may cause Facebook,...</td>\n",
       "      <td>2022-02-07T09:20:26.000Z</td>\n",
       "      <td>Pragya Swastik</td>\n",
       "      <td>Meta in its annual report to the US SEC said i...</td>\n",
       "      <td>business</td>\n",
       "    </tr>\n",
       "    <tr>\n",
       "      <th>4</th>\n",
       "      <td>Wishy-washy words not needed, say sorry: Shiv ...</td>\n",
       "      <td>2022-02-07T11:20:42.000Z</td>\n",
       "      <td>Pragya Swastik</td>\n",
       "      <td>Shiv Sena's MP Priyanka Chaturvedi tweeted to ...</td>\n",
       "      <td>business</td>\n",
       "    </tr>\n",
       "  </tbody>\n",
       "</table>\n",
       "</div>"
      ],
      "text/plain": [
       "                                               title  \\\n",
       "0  Start demolition of Supertech's 40-storey twin...   \n",
       "1  The focus is on growth and adoption for Digita...   \n",
       "2  COVID, you did your worst & stole our voice: M...   \n",
       "3  Meta says data regulations may cause Facebook,...   \n",
       "4  Wishy-washy words not needed, say sorry: Shiv ...   \n",
       "\n",
       "                  published           author  \\\n",
       "0  2022-02-07T11:05:31.000Z   Ridham Gambhir   \n",
       "1  2022-02-07T06:10:25.000Z     Roshan Gupta   \n",
       "2  2022-02-06T15:37:00.000Z  Sakshita Khosla   \n",
       "3  2022-02-07T09:20:26.000Z   Pragya Swastik   \n",
       "4  2022-02-07T11:20:42.000Z   Pragya Swastik   \n",
       "\n",
       "                                             content  category  \n",
       "0  The Supreme Court on Monday ordered that the d...  business  \n",
       "1  Union Budget 2022 is focused on promoting digi...  business  \n",
       "2  Businessman Anand Mahindra on Sunday shared a ...  business  \n",
       "3  Meta in its annual report to the US SEC said i...  business  \n",
       "4  Shiv Sena's MP Priyanka Chaturvedi tweeted to ...  business  "
      ]
     },
     "execution_count": 44,
     "metadata": {},
     "output_type": "execute_result"
    }
   ],
   "source": [
    "news_df.head()"
   ]
  },
  {
   "cell_type": "code",
   "execution_count": 21,
   "id": "26d7035a",
   "metadata": {},
   "outputs": [],
   "source": [
    "def prep_article_data(df, column, extra_words=[], exclude_words=[]):\n",
    "    '''\n",
    "    This function take in a df and the string name for a text column with \n",
    "    option to pass lists for extra_words and exclude_words and\n",
    "    returns a df with the text article title, original text, stemmed text,\n",
    "    lemmatized text, cleaned, tokenized, & lemmatized text with stopwords removed.\n",
    "    '''\n",
    "    df['clean'] = df[column].apply(basic_clean)\\\n",
    "                            .apply(tokenize)\\\n",
    "                            .apply(remove_stopwords, \n",
    "                                   extra_words=extra_words, \n",
    "                                   exclude_words=exclude_words)\n",
    "    \n",
    "    df['stemmed'] = df[column].apply(basic_clean)\\\n",
    "                            .apply(tokenize)\\\n",
    "                            .apply(stem)\\\n",
    "                            .apply(remove_stopwords, \n",
    "                                   extra_words=extra_words, \n",
    "                                   exclude_words=exclude_words)\n",
    "    \n",
    "    df['lemmatized'] = df[column].apply(basic_clean)\\\n",
    "                            .apply(tokenize)\\\n",
    "                            .apply(lemmatize)\\\n",
    "                            .apply(remove_stopwords, \n",
    "                                   extra_words=extra_words, \n",
    "                                   exclude_words=exclude_words)\n",
    "    \n",
    "    return df[['title', column,'clean', 'stemmed', 'lemmatized']]"
   ]
  },
  {
   "cell_type": "code",
   "execution_count": 45,
   "id": "f88c824a",
   "metadata": {
    "scrolled": true
   },
   "outputs": [
    {
     "data": {
      "text/html": [
       "<div>\n",
       "<style scoped>\n",
       "    .dataframe tbody tr th:only-of-type {\n",
       "        vertical-align: middle;\n",
       "    }\n",
       "\n",
       "    .dataframe tbody tr th {\n",
       "        vertical-align: top;\n",
       "    }\n",
       "\n",
       "    .dataframe thead th {\n",
       "        text-align: right;\n",
       "    }\n",
       "</style>\n",
       "<table border=\"1\" class=\"dataframe\">\n",
       "  <thead>\n",
       "    <tr style=\"text-align: right;\">\n",
       "      <th></th>\n",
       "      <th>title</th>\n",
       "      <th>content</th>\n",
       "      <th>clean</th>\n",
       "      <th>stemmed</th>\n",
       "      <th>lemmatized</th>\n",
       "    </tr>\n",
       "  </thead>\n",
       "  <tbody>\n",
       "    <tr>\n",
       "      <th>0</th>\n",
       "      <td>Start demolition of Supertech's 40-storey twin...</td>\n",
       "      <td>The Supreme Court on Monday ordered that the d...</td>\n",
       "      <td>supreme court monday ordered demolition works ...</td>\n",
       "      <td>suprem court monday order demolit work superte...</td>\n",
       "      <td>supreme court monday ordered demolition work s...</td>\n",
       "    </tr>\n",
       "    <tr>\n",
       "      <th>1</th>\n",
       "      <td>The focus is on growth and adoption for Digita...</td>\n",
       "      <td>Union Budget 2022 is focused on promoting digi...</td>\n",
       "      <td>union budget 2022 focused promoting digital ec...</td>\n",
       "      <td>union budget 2022 focus promot digit economi f...</td>\n",
       "      <td>union budget 2022 focused promoting digital ec...</td>\n",
       "    </tr>\n",
       "    <tr>\n",
       "      <th>2</th>\n",
       "      <td>COVID, you did your worst &amp; stole our voice: M...</td>\n",
       "      <td>Businessman Anand Mahindra on Sunday shared a ...</td>\n",
       "      <td>businessman anand mahindra sunday shared pictu...</td>\n",
       "      <td>businessman anand mahindra sunday share pictur...</td>\n",
       "      <td>businessman anand mahindra sunday shared pictu...</td>\n",
       "    </tr>\n",
       "    <tr>\n",
       "      <th>3</th>\n",
       "      <td>Meta says data regulations may cause Facebook,...</td>\n",
       "      <td>Meta in its annual report to the US SEC said i...</td>\n",
       "      <td>meta annual report us sec said might stop oper...</td>\n",
       "      <td>meta annual report us sec said might stop oper...</td>\n",
       "      <td>meta annual report u sec said might stop opera...</td>\n",
       "    </tr>\n",
       "    <tr>\n",
       "      <th>4</th>\n",
       "      <td>Wishy-washy words not needed, say sorry: Shiv ...</td>\n",
       "      <td>Shiv Sena's MP Priyanka Chaturvedi tweeted to ...</td>\n",
       "      <td>shiv senas mp priyanka chaturvedi tweeted hyun...</td>\n",
       "      <td>shiv sena mp priyanka chaturvedi tweet hyundai...</td>\n",
       "      <td>shiv senas mp priyanka chaturvedi tweeted hyun...</td>\n",
       "    </tr>\n",
       "  </tbody>\n",
       "</table>\n",
       "</div>"
      ],
      "text/plain": [
       "                                               title  \\\n",
       "0  Start demolition of Supertech's 40-storey twin...   \n",
       "1  The focus is on growth and adoption for Digita...   \n",
       "2  COVID, you did your worst & stole our voice: M...   \n",
       "3  Meta says data regulations may cause Facebook,...   \n",
       "4  Wishy-washy words not needed, say sorry: Shiv ...   \n",
       "\n",
       "                                             content  \\\n",
       "0  The Supreme Court on Monday ordered that the d...   \n",
       "1  Union Budget 2022 is focused on promoting digi...   \n",
       "2  Businessman Anand Mahindra on Sunday shared a ...   \n",
       "3  Meta in its annual report to the US SEC said i...   \n",
       "4  Shiv Sena's MP Priyanka Chaturvedi tweeted to ...   \n",
       "\n",
       "                                               clean  \\\n",
       "0  supreme court monday ordered demolition works ...   \n",
       "1  union budget 2022 focused promoting digital ec...   \n",
       "2  businessman anand mahindra sunday shared pictu...   \n",
       "3  meta annual report us sec said might stop oper...   \n",
       "4  shiv senas mp priyanka chaturvedi tweeted hyun...   \n",
       "\n",
       "                                             stemmed  \\\n",
       "0  suprem court monday order demolit work superte...   \n",
       "1  union budget 2022 focus promot digit economi f...   \n",
       "2  businessman anand mahindra sunday share pictur...   \n",
       "3  meta annual report us sec said might stop oper...   \n",
       "4  shiv sena mp priyanka chaturvedi tweet hyundai...   \n",
       "\n",
       "                                          lemmatized  \n",
       "0  supreme court monday ordered demolition work s...  \n",
       "1  union budget 2022 focused promoting digital ec...  \n",
       "2  businessman anand mahindra sunday shared pictu...  \n",
       "3  meta annual report u sec said might stop opera...  \n",
       "4  shiv senas mp priyanka chaturvedi tweeted hyun...  "
      ]
     },
     "execution_count": 45,
     "metadata": {},
     "output_type": "execute_result"
    }
   ],
   "source": [
    "prep_article_data(news_df, 'content', extra_words = ['ha'], exclude_words = ['no']).head()"
   ]
  },
  {
   "cell_type": "markdown",
   "id": "d0d3ad0a",
   "metadata": {},
   "source": [
    "7. Make another dataframe for the Codeup blog posts. Name the dataframe `codeup_df`."
   ]
  },
  {
   "cell_type": "code",
   "execution_count": 41,
   "id": "58e640a2",
   "metadata": {},
   "outputs": [],
   "source": [
    "codeup_df = pd.read_json('codeup_blog_2022-02-07.json')"
   ]
  },
  {
   "cell_type": "code",
   "execution_count": 42,
   "id": "239b72d0",
   "metadata": {},
   "outputs": [
    {
     "data": {
      "text/html": [
       "<div>\n",
       "<style scoped>\n",
       "    .dataframe tbody tr th:only-of-type {\n",
       "        vertical-align: middle;\n",
       "    }\n",
       "\n",
       "    .dataframe tbody tr th {\n",
       "        vertical-align: top;\n",
       "    }\n",
       "\n",
       "    .dataframe thead th {\n",
       "        text-align: right;\n",
       "    }\n",
       "</style>\n",
       "<table border=\"1\" class=\"dataframe\">\n",
       "  <thead>\n",
       "    <tr style=\"text-align: right;\">\n",
       "      <th></th>\n",
       "      <th>title</th>\n",
       "      <th>published</th>\n",
       "      <th>content</th>\n",
       "    </tr>\n",
       "  </thead>\n",
       "  <tbody>\n",
       "    <tr>\n",
       "      <th>0</th>\n",
       "      <td>Codeup Dallas Open House</td>\n",
       "      <td>Nov 30, 2021</td>\n",
       "      <td>Come join us for the re-opening of our Dallas ...</td>\n",
       "    </tr>\n",
       "    <tr>\n",
       "      <th>1</th>\n",
       "      <td>Codeup’s Placement Team Continues Setting Records</td>\n",
       "      <td>Nov 19, 2021</td>\n",
       "      <td>Our Placement Team is simply defined as a grou...</td>\n",
       "    </tr>\n",
       "    <tr>\n",
       "      <th>2</th>\n",
       "      <td>IT Certifications 101: Why They Matter, and Wh...</td>\n",
       "      <td>Nov 18, 2021</td>\n",
       "      <td>AWS, Google, Azure, Red Hat, CompTIA…these are...</td>\n",
       "    </tr>\n",
       "    <tr>\n",
       "      <th>3</th>\n",
       "      <td>A rise in cyber attacks means opportunities fo...</td>\n",
       "      <td>Nov 17, 2021</td>\n",
       "      <td>In the last few months, the US has experienced...</td>\n",
       "    </tr>\n",
       "    <tr>\n",
       "      <th>4</th>\n",
       "      <td>Use your GI Bill® benefits to Land a Job in Tech</td>\n",
       "      <td>Nov 4, 2021</td>\n",
       "      <td>As the end of military service gets closer, ma...</td>\n",
       "    </tr>\n",
       "  </tbody>\n",
       "</table>\n",
       "</div>"
      ],
      "text/plain": [
       "                                               title     published  \\\n",
       "0                           Codeup Dallas Open House  Nov 30, 2021   \n",
       "1  Codeup’s Placement Team Continues Setting Records  Nov 19, 2021   \n",
       "2  IT Certifications 101: Why They Matter, and Wh...  Nov 18, 2021   \n",
       "3  A rise in cyber attacks means opportunities fo...  Nov 17, 2021   \n",
       "4   Use your GI Bill® benefits to Land a Job in Tech   Nov 4, 2021   \n",
       "\n",
       "                                             content  \n",
       "0  Come join us for the re-opening of our Dallas ...  \n",
       "1  Our Placement Team is simply defined as a grou...  \n",
       "2  AWS, Google, Azure, Red Hat, CompTIA…these are...  \n",
       "3  In the last few months, the US has experienced...  \n",
       "4  As the end of military service gets closer, ma...  "
      ]
     },
     "execution_count": 42,
     "metadata": {},
     "output_type": "execute_result"
    }
   ],
   "source": [
    "codeup_df.head()"
   ]
  },
  {
   "cell_type": "markdown",
   "id": "0aacb0a3",
   "metadata": {},
   "source": [
    "8. For each dataframe, produce the following columns:\n",
    "- `title` to hold the title\n",
    "- `original` to hold the original article/post content\n",
    "- `clean` to hold the normalized and tokenized original with the stopwords removed.\n",
    "- `stemmed` to hold the stemmed version of the cleaned data.\n",
    "- `lemmatized` to hold the lemmatized version of the cleaned data.\n"
   ]
  },
  {
   "cell_type": "code",
   "execution_count": 47,
   "id": "2cab5686",
   "metadata": {},
   "outputs": [],
   "source": [
    "# content = original"
   ]
  },
  {
   "cell_type": "code",
   "execution_count": 46,
   "id": "5192e855",
   "metadata": {},
   "outputs": [
    {
     "data": {
      "text/html": [
       "<div>\n",
       "<style scoped>\n",
       "    .dataframe tbody tr th:only-of-type {\n",
       "        vertical-align: middle;\n",
       "    }\n",
       "\n",
       "    .dataframe tbody tr th {\n",
       "        vertical-align: top;\n",
       "    }\n",
       "\n",
       "    .dataframe thead th {\n",
       "        text-align: right;\n",
       "    }\n",
       "</style>\n",
       "<table border=\"1\" class=\"dataframe\">\n",
       "  <thead>\n",
       "    <tr style=\"text-align: right;\">\n",
       "      <th></th>\n",
       "      <th>title</th>\n",
       "      <th>content</th>\n",
       "      <th>clean</th>\n",
       "      <th>stemmed</th>\n",
       "      <th>lemmatized</th>\n",
       "    </tr>\n",
       "  </thead>\n",
       "  <tbody>\n",
       "    <tr>\n",
       "      <th>0</th>\n",
       "      <td>Codeup Dallas Open House</td>\n",
       "      <td>Come join us for the re-opening of our Dallas ...</td>\n",
       "      <td>come join us reopening dallas campus drinks sn...</td>\n",
       "      <td>come join us reopen dalla campu drink snack co...</td>\n",
       "      <td>come join u reopening dallas campus drink snac...</td>\n",
       "    </tr>\n",
       "    <tr>\n",
       "      <th>1</th>\n",
       "      <td>Codeup’s Placement Team Continues Setting Records</td>\n",
       "      <td>Our Placement Team is simply defined as a grou...</td>\n",
       "      <td>placement team simply defined group manages re...</td>\n",
       "      <td>placement team simpli defin group manag relati...</td>\n",
       "      <td>placement team simply defined group manages re...</td>\n",
       "    </tr>\n",
       "    <tr>\n",
       "      <th>2</th>\n",
       "      <td>IT Certifications 101: Why They Matter, and Wh...</td>\n",
       "      <td>AWS, Google, Azure, Red Hat, CompTIA…these are...</td>\n",
       "      <td>aws google azure red hat comptiathese big name...</td>\n",
       "      <td>aw googl azur red hat comptiathes big name onl...</td>\n",
       "      <td>aws google azure red hat comptiathese big name...</td>\n",
       "    </tr>\n",
       "    <tr>\n",
       "      <th>3</th>\n",
       "      <td>A rise in cyber attacks means opportunities fo...</td>\n",
       "      <td>In the last few months, the US has experienced...</td>\n",
       "      <td>last months us experienced dozens major cybera...</td>\n",
       "      <td>last month us experienc dozen major cyberattac...</td>\n",
       "      <td>last month u experienced dozen major cyberatta...</td>\n",
       "    </tr>\n",
       "    <tr>\n",
       "      <th>4</th>\n",
       "      <td>Use your GI Bill® benefits to Land a Job in Tech</td>\n",
       "      <td>As the end of military service gets closer, ma...</td>\n",
       "      <td>end military service gets closer many transiti...</td>\n",
       "      <td>end militari servic get closer mani transit se...</td>\n",
       "      <td>end military service get closer many transitio...</td>\n",
       "    </tr>\n",
       "  </tbody>\n",
       "</table>\n",
       "</div>"
      ],
      "text/plain": [
       "                                               title  \\\n",
       "0                           Codeup Dallas Open House   \n",
       "1  Codeup’s Placement Team Continues Setting Records   \n",
       "2  IT Certifications 101: Why They Matter, and Wh...   \n",
       "3  A rise in cyber attacks means opportunities fo...   \n",
       "4   Use your GI Bill® benefits to Land a Job in Tech   \n",
       "\n",
       "                                             content  \\\n",
       "0  Come join us for the re-opening of our Dallas ...   \n",
       "1  Our Placement Team is simply defined as a grou...   \n",
       "2  AWS, Google, Azure, Red Hat, CompTIA…these are...   \n",
       "3  In the last few months, the US has experienced...   \n",
       "4  As the end of military service gets closer, ma...   \n",
       "\n",
       "                                               clean  \\\n",
       "0  come join us reopening dallas campus drinks sn...   \n",
       "1  placement team simply defined group manages re...   \n",
       "2  aws google azure red hat comptiathese big name...   \n",
       "3  last months us experienced dozens major cybera...   \n",
       "4  end military service gets closer many transiti...   \n",
       "\n",
       "                                             stemmed  \\\n",
       "0  come join us reopen dalla campu drink snack co...   \n",
       "1  placement team simpli defin group manag relati...   \n",
       "2  aw googl azur red hat comptiathes big name onl...   \n",
       "3  last month us experienc dozen major cyberattac...   \n",
       "4  end militari servic get closer mani transit se...   \n",
       "\n",
       "                                          lemmatized  \n",
       "0  come join u reopening dallas campus drink snac...  \n",
       "1  placement team simply defined group manages re...  \n",
       "2  aws google azure red hat comptiathese big name...  \n",
       "3  last month u experienced dozen major cyberatta...  \n",
       "4  end military service get closer many transitio...  "
      ]
     },
     "execution_count": 46,
     "metadata": {},
     "output_type": "execute_result"
    }
   ],
   "source": [
    "prep_article_data(codeup_df, 'content', extra_words = ['ha'], exclude_words = ['no']).head()"
   ]
  },
  {
   "cell_type": "markdown",
   "id": "866738c3",
   "metadata": {},
   "source": [
    "Ask yourself:\n",
    "\n",
    "- If your corpus is 493KB, would you prefer to use stemmed or lemmatized text?\n",
    "    - lemmatized\n",
    "- If your corpus is 25MB, would you prefer to use stemmed or lemmatized text?\n",
    "    - lemmatized\n",
    "- If your corpus is 200TB of text and you're charged by the megabyte for your hosted computational resources, would you prefer to use stemmed or lemmatized text?\n",
    "    - stemmed"
   ]
  },
  {
   "cell_type": "code",
   "execution_count": null,
   "id": "edfdb298",
   "metadata": {},
   "outputs": [],
   "source": []
  }
 ],
 "metadata": {
  "kernelspec": {
   "display_name": "Python 3",
   "language": "python",
   "name": "python3"
  },
  "language_info": {
   "codemirror_mode": {
    "name": "ipython",
    "version": 3
   },
   "file_extension": ".py",
   "mimetype": "text/x-python",
   "name": "python",
   "nbconvert_exporter": "python",
   "pygments_lexer": "ipython3",
   "version": "3.8.8"
  }
 },
 "nbformat": 4,
 "nbformat_minor": 5
}
